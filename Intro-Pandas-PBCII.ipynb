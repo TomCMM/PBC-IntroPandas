{
 "cells": [
  {
   "cell_type": "markdown",
   "metadata": {
    "deletable": true,
    "editable": true
   },
   "source": [
    "# Introduction to data manipulation and analysis with *Pandas*\n",
    "\n",
    "The objective of this notebook is to make a brief overview of the pandas module for data analysis and manipulation. To present the different pandas tools,w e use as an example the hydrometeorological data from the famous sistema Cantareira reservoir (São Paulo/Brazil). The data files are located in the data directory of this repository.\n",
    "\n",
    "Have fun :)\n"
   ]
  },
  {
   "cell_type": "markdown",
   "metadata": {
    "deletable": true,
    "editable": true
   },
   "source": [
    "## What is Pandas and why use it?\n"
   ]
  },
  {
   "cell_type": "markdown",
   "metadata": {
    "deletable": true,
    "editable": true
   },
   "source": [
    "Pandas provides easy to use and intuitive data structures and  high performance tools for data analysis. It has been designed for practical, real-world analysis.\n",
    "\n",
    "The community have the objective to build the most powerful and flexible open source data analysis / manipulation tool available in any language.\n",
    "\n",
    "\n",
    "You will find everything you need to know about Pandas at: http://pandas.pydata.org/"
   ]
  },
  {
   "cell_type": "markdown",
   "metadata": {
    "deletable": true,
    "editable": true
   },
   "source": [
    "## Topics covered "
   ]
  },
  {
   "cell_type": "markdown",
   "metadata": {
    "deletable": true,
    "editable": true
   },
   "source": [
    "* Object Creation: Series and Dataframe\n",
    "* Data Visualisation\n",
    "* Data Selection\n",
    "* Read data from file\n",
    "* Dealing with missing data\n",
    "* Setting in data structure\n",
    "* Basic operation and apply function\n",
    "* Merge/concatenate/join/append data structures\n",
    "* Resample\n",
    "* Grouping : split-apply-combine\n",
    "* Pivot Table\n",
    "* Writing to file\n",
    "* Basic plots\n",
    "\n",
    "This presentation is inspired from the amazing \"10 minutes to Pandas\" tutorial (http://pandas.pydata.org/pandas-docs/stable/10min.html). \n",
    "\n",
    "For further details look at the Pandas documentation: http://pandas.pydata.org/pandas-docs/stable/index.html"
   ]
  },
  {
   "cell_type": "markdown",
   "metadata": {
    "deletable": true,
    "editable": true
   },
   "source": [
    "## Let's fire up Pandas !\n",
    "We will need numpy and matplotlib.pyplot as well."
   ]
  },
  {
   "cell_type": "code",
   "execution_count": 2,
   "metadata": {
    "collapsed": false,
    "deletable": true,
    "editable": true
   },
   "outputs": [],
   "source": [
    "import pandas as pd\n",
    "import numpy as np\n",
    "import matplotlib.pyplot as plt"
   ]
  },
  {
   "cell_type": "markdown",
   "metadata": {
    "deletable": true,
    "editable": true
   },
   "source": [
    "## Object Creation"
   ]
  },
  {
   "cell_type": "markdown",
   "metadata": {
    "deletable": true,
    "editable": true
   },
   "source": [
    "Pandas supports three data structures:\n",
    "* Series (1 axis).\n",
    "* Dataframe (2 axis)\n",
    "* Panel (3 - N axis)\n",
    "\n",
    "They are labeled arrays which can contain any kind of data types (int,float, string, objects ...). The labels are called  index in pandas.\n",
    "\n",
    "The main difference between numpy and pandas reside \n",
    "\n",
    "For more information about data structure, please have a look at the documentation: http://pandas.pydata.org/pandas-docs/stable/dsintro.html#dsintro"
   ]
  },
  {
   "cell_type": "markdown",
   "metadata": {
    "deletable": true,
    "editable": true
   },
   "source": [
    "### Create a serie\n",
    "\n",
    "We need:\n",
    "* an index, e.g. a list of string\n",
    "* an array, e.g. a numpy.ndarray\n",
    "\n",
    "if no index is specified, pandas will by default use a list of interger."
   ]
  },
  {
   "cell_type": "code",
   "execution_count": 3,
   "metadata": {
    "collapsed": false,
    "deletable": true,
    "editable": true
   },
   "outputs": [],
   "source": [
    "labels = ['a','b','c','d']\n",
    "values = np.arange(4)"
   ]
  },
  {
   "cell_type": "code",
   "execution_count": 4,
   "metadata": {
    "collapsed": true,
    "deletable": true,
    "editable": true
   },
   "outputs": [
    {
     "data": {
      "text/plain": [
       "a    0\n",
       "b    1\n",
       "c    2\n",
       "d    3\n",
       "dtype: int64"
      ]
     },
     "execution_count": 4,
     "metadata": {},
     "output_type": "execute_result"
    }
   ],
   "source": [
    "pd.Series(values, index=labels)"
   ]
  },
  {
   "cell_type": "markdown",
   "metadata": {
    "deletable": true,
    "editable": true
   },
   "source": [
    "### Create a dataframe \n",
    " A dataframe is a two-dimensional labeled array.\n",
    " There is various way to create a dataframe. for more information, you can have a look at: http://pandas.pydata.org/pandas-docs/stable/dsintro.html#dataframe\n",
    " \n",
    "#### from a dictionnary of list"
   ]
  },
  {
   "cell_type": "code",
   "execution_count": 5,
   "metadata": {
    "collapsed": true,
    "deletable": true,
    "editable": true
   },
   "outputs": [
    {
     "name": "stdout",
     "output_type": "stream",
     "text": [
      "{'a': [1, 2, 3, 4, 5], 'b': [10, 20, 30, 40, 50]}\n"
     ]
    }
   ],
   "source": [
    "dic = {'a':[1,2,3,4,5],\n",
    "       'b':[10,20,30,40,50]\n",
    "       }\n",
    "print dic"
   ]
  },
  {
   "cell_type": "code",
   "execution_count": 6,
   "metadata": {
    "collapsed": true,
    "deletable": true,
    "editable": true
   },
   "outputs": [
    {
     "name": "stdout",
     "output_type": "stream",
     "text": [
      "   a   b\n",
      "0  1  10\n",
      "1  2  20\n",
      "2  3  30\n",
      "3  4  40\n",
      "4  5  50\n"
     ]
    }
   ],
   "source": [
    "df = pd.DataFrame(dic)\n",
    "print df"
   ]
  },
  {
   "cell_type": "markdown",
   "metadata": {
    "deletable": true,
    "editable": true
   },
   "source": [
    "## Time Series / Date functionality \n",
    "Pandas provide powerful tools to work with time series based upon numpy datetime64 and timedelta64 dtypes."
   ]
  },
  {
   "cell_type": "code",
   "execution_count": 10,
   "metadata": {
    "collapsed": false,
    "deletable": true,
    "editable": true
   },
   "outputs": [],
   "source": [
    "rng = pd.date_range('1/1/2016', periods=100, freq='S')"
   ]
  },
  {
   "cell_type": "code",
   "execution_count": 11,
   "metadata": {
    "collapsed": true,
    "deletable": true,
    "editable": true
   },
   "outputs": [
    {
     "data": {
      "text/plain": [
       "PeriodIndex(['2016-01-01', '2016-01-02', '2016-01-03', '2016-01-04',\n",
       "             '2016-01-05', '2016-01-06', '2016-01-07', '2016-01-08',\n",
       "             '2016-01-09', '2016-01-10',\n",
       "             ...\n",
       "             '2016-12-23', '2016-12-24', '2016-12-25', '2016-12-26',\n",
       "             '2016-12-27', '2016-12-28', '2016-12-29', '2016-12-30',\n",
       "             '2016-12-31', '2017-01-01'],\n",
       "            dtype='int64', length=367, freq='D')"
      ]
     },
     "execution_count": 11,
     "metadata": {},
     "output_type": "execute_result"
    }
   ],
   "source": [
    "pd.period_range('1/1/2016', '1/1/2017', freq='D')"
   ]
  },
  {
   "cell_type": "markdown",
   "metadata": {
    "deletable": true,
    "editable": true
   },
   "source": [
    "To create a temporal serie"
   ]
  },
  {
   "cell_type": "code",
   "execution_count": 12,
   "metadata": {
    "collapsed": true,
    "deletable": true,
    "editable": true
   },
   "outputs": [
    {
     "data": {
      "text/plain": [
       "2016-01-01 00:00:00     0\n",
       "2016-01-01 00:00:01     1\n",
       "2016-01-01 00:00:02     2\n",
       "2016-01-01 00:00:03     3\n",
       "2016-01-01 00:00:04     4\n",
       "2016-01-01 00:00:05     5\n",
       "2016-01-01 00:00:06     6\n",
       "2016-01-01 00:00:07     7\n",
       "2016-01-01 00:00:08     8\n",
       "2016-01-01 00:00:09     9\n",
       "2016-01-01 00:00:10    10\n",
       "2016-01-01 00:00:11    11\n",
       "2016-01-01 00:00:12    12\n",
       "2016-01-01 00:00:13    13\n",
       "2016-01-01 00:00:14    14\n",
       "2016-01-01 00:00:15    15\n",
       "2016-01-01 00:00:16    16\n",
       "2016-01-01 00:00:17    17\n",
       "2016-01-01 00:00:18    18\n",
       "2016-01-01 00:00:19    19\n",
       "2016-01-01 00:00:20    20\n",
       "2016-01-01 00:00:21    21\n",
       "2016-01-01 00:00:22    22\n",
       "2016-01-01 00:00:23    23\n",
       "2016-01-01 00:00:24    24\n",
       "2016-01-01 00:00:25    25\n",
       "2016-01-01 00:00:26    26\n",
       "2016-01-01 00:00:27    27\n",
       "2016-01-01 00:00:28    28\n",
       "2016-01-01 00:00:29    29\n",
       "                       ..\n",
       "2016-01-01 00:01:10    70\n",
       "2016-01-01 00:01:11    71\n",
       "2016-01-01 00:01:12    72\n",
       "2016-01-01 00:01:13    73\n",
       "2016-01-01 00:01:14    74\n",
       "2016-01-01 00:01:15    75\n",
       "2016-01-01 00:01:16    76\n",
       "2016-01-01 00:01:17    77\n",
       "2016-01-01 00:01:18    78\n",
       "2016-01-01 00:01:19    79\n",
       "2016-01-01 00:01:20    80\n",
       "2016-01-01 00:01:21    81\n",
       "2016-01-01 00:01:22    82\n",
       "2016-01-01 00:01:23    83\n",
       "2016-01-01 00:01:24    84\n",
       "2016-01-01 00:01:25    85\n",
       "2016-01-01 00:01:26    86\n",
       "2016-01-01 00:01:27    87\n",
       "2016-01-01 00:01:28    88\n",
       "2016-01-01 00:01:29    89\n",
       "2016-01-01 00:01:30    90\n",
       "2016-01-01 00:01:31    91\n",
       "2016-01-01 00:01:32    92\n",
       "2016-01-01 00:01:33    93\n",
       "2016-01-01 00:01:34    94\n",
       "2016-01-01 00:01:35    95\n",
       "2016-01-01 00:01:36    96\n",
       "2016-01-01 00:01:37    97\n",
       "2016-01-01 00:01:38    98\n",
       "2016-01-01 00:01:39    99\n",
       "Freq: S, dtype: int64"
      ]
     },
     "execution_count": 12,
     "metadata": {},
     "output_type": "execute_result"
    }
   ],
   "source": [
    "pd.Series(range(100), index = rng)"
   ]
  },
  {
   "cell_type": "markdown",
   "metadata": {
    "deletable": true,
    "editable": true
   },
   "source": [
    "## Read (real) data from file.\n",
    "Let's explore hydrometeorological data observed in the region of the Cantareira sistema (The main reservoir of the São Paulo megacity), more precisely the accumulated rainfall (mm/day) and the volume of water in (%) (100% correspond to the maximum capacity). \n",
    "\n",
    "Note: In this example, the index of our dataframe is going to be a datetime object, as time series are recurrently used in atmospheric sciences. However, the index could be whatever labeled object, for example the ID of the stars for applications in astronomy. "
   ]
  },
  {
   "cell_type": "code",
   "execution_count": 13,
   "metadata": {
    "collapsed": false,
    "deletable": true,
    "editable": true
   },
   "outputs": [],
   "source": [
    "Path = './data/'\n",
    "filename = \"DataCantareira.csv\""
   ]
  },
  {
   "cell_type": "markdown",
   "metadata": {
    "deletable": true,
    "editable": true
   },
   "source": [
    "Lets have a look at the amazing capabilities of the \"read_csv\" method!\n",
    "http://pandas.pydata.org/pandas-docs/stable/generated/pandas.read_csv.html\n",
    "\n",
    "This method provide so many options that you will probably never need to perform extra programing in order to read your data! (This is really timesaving for data analysis tasks)"
   ]
  },
  {
   "cell_type": "code",
   "execution_count": 14,
   "metadata": {
    "collapsed": true,
    "deletable": true,
    "editable": true
   },
   "outputs": [
    {
     "name": "stdout",
     "output_type": "stream",
     "text": [
      "          dates   reservoir  volume (%)  rain (mm/dia)\n",
      "0      1/1/2003  Cantareira        42.5            0.0\n",
      "1      1/2/2003  Cantareira         NaN           11.1\n",
      "2      1/3/2003  Cantareira        42.3            8.6\n",
      "3      1/4/2003  Cantareira         NaN           14.3\n",
      "4      1/5/2003  Cantareira        42.4           12.7\n",
      "5      1/6/2003  Cantareira        42.4           23.8\n",
      "6      1/7/2003  Cantareira        42.5            0.0\n",
      "7      1/8/2003  Cantareira        42.5            0.0\n",
      "8      1/9/2003  Cantareira        42.6            0.0\n",
      "9     1/10/2003  Cantareira        42.3            0.0\n",
      "10    1/11/2003  Cantareira        42.4           25.0\n",
      "11    1/12/2003  Cantareira        42.6            8.3\n",
      "12    1/13/2003  Cantareira        43.0           23.3\n",
      "13    1/14/2003  Cantareira        42.9            2.8\n",
      "14    1/15/2003  Cantareira        42.8            0.0\n",
      "15    1/16/2003  Cantareira        42.8            0.0\n",
      "16    1/17/2003  Cantareira        43.3           43.4\n",
      "17    1/18/2003  Cantareira        44.6           42.6\n",
      "18    1/19/2003  Cantareira        45.3            6.4\n",
      "19    1/20/2003  Cantareira        46.1           30.0\n",
      "20    1/21/2003  Cantareira        46.7            0.0\n",
      "21    1/22/2003  Cantareira        48.1           49.6\n",
      "22    1/23/2003  Cantareira        49.2           18.2\n",
      "23    1/24/2003  Cantareira        50.1           22.2\n",
      "24    1/25/2003  Cantareira        51.1            1.1\n",
      "25    1/26/2003  Cantareira        52.1            4.1\n",
      "26    1/27/2003  Cantareira        53.3           18.5\n",
      "27    1/28/2003  Cantareira        54.4           16.9\n",
      "28    1/29/2003  Cantareira        56.0           18.2\n",
      "29    1/30/2003  Cantareira        57.5            4.3\n",
      "...         ...         ...         ...            ...\n",
      "4631   9/6/2015  Cantareira        15.0            0.0\n",
      "4632   9/7/2015  Cantareira        15.0            0.1\n",
      "4633   9/8/2015  Cantareira        15.0           17.5\n",
      "4634   9/9/2015  Cantareira        15.4           45.8\n",
      "4635  9/10/2015  Cantareira        15.6            0.2\n",
      "4636  9/11/2015  Cantareira        15.7           23.8\n",
      "4637  9/12/2015  Cantareira        16.0           18.3\n",
      "4638  9/13/2015  Cantareira        16.3            1.1\n",
      "4639  9/14/2015  Cantareira        16.4            0.0\n",
      "4640  9/15/2015  Cantareira        16.5            0.0\n",
      "4641  9/16/2015  Cantareira        16.5            0.0\n",
      "4642  9/17/2015  Cantareira        16.5            0.0\n",
      "4643  9/18/2015  Cantareira        16.5            0.0\n",
      "4644  9/19/2015  Cantareira        16.4            0.0\n",
      "4645  9/20/2015  Cantareira        16.4            0.0\n",
      "4646  9/21/2015  Cantareira        16.3            0.0\n",
      "4647  9/22/2015  Cantareira        16.3            0.0\n",
      "4648  9/23/2015  Cantareira        16.2            0.0\n",
      "4649  9/24/2015  Cantareira        16.1            0.0\n",
      "4650  9/25/2015  Cantareira        16.0            0.0\n",
      "4651  9/26/2015  Cantareira        16.1           29.6\n",
      "4652  9/27/2015  Cantareira        16.2            2.0\n",
      "4653  9/28/2015  Cantareira        16.2            9.6\n",
      "4654  9/29/2015  Cantareira        16.2            0.2\n",
      "4655  9/30/2015  Cantareira        16.2            4.2\n",
      "4656  10/1/2015  Cantareira        16.4           28.7\n",
      "4657  10/2/2015  Cantareira        16.5            0.0\n",
      "4658  10/3/2015  Cantareira        16.6           11.8\n",
      "4659  10/4/2015  Cantareira        16.7            0.2\n",
      "4660  10/5/2015  Cantareira        16.7            0.9\n",
      "\n",
      "[4661 rows x 4 columns]\n"
     ]
    }
   ],
   "source": [
    "df = pd.read_csv(Path+filename)\n",
    "print df"
   ]
  },
  {
   "cell_type": "markdown",
   "metadata": {
    "deletable": true,
    "editable": true
   },
   "source": [
    "In this case the read csv methods return directly a dataframe. As you can see the first column hold the date of each event. We could have directly defined the index to be a datetime object by passing the following argument to read csv."
   ]
  },
  {
   "cell_type": "code",
   "execution_count": 15,
   "metadata": {
    "collapsed": true,
    "deletable": true,
    "editable": true
   },
   "outputs": [
    {
     "name": "stdout",
     "output_type": "stream",
     "text": [
      "             reservoir  volume (%)  rain (mm/dia)\n",
      "dates                                            \n",
      "2003-01-01  Cantareira        42.5            0.0\n",
      "2003-01-02  Cantareira         NaN           11.1\n",
      "2003-01-03  Cantareira        42.3            8.6\n",
      "2003-01-04  Cantareira         NaN           14.3\n",
      "2003-01-05  Cantareira        42.4           12.7\n",
      "2003-01-06  Cantareira        42.4           23.8\n",
      "2003-01-07  Cantareira        42.5            0.0\n",
      "2003-01-08  Cantareira        42.5            0.0\n",
      "2003-01-09  Cantareira        42.6            0.0\n",
      "2003-01-10  Cantareira        42.3            0.0\n",
      "2003-01-11  Cantareira        42.4           25.0\n",
      "2003-01-12  Cantareira        42.6            8.3\n",
      "2003-01-13  Cantareira        43.0           23.3\n",
      "2003-01-14  Cantareira        42.9            2.8\n",
      "2003-01-15  Cantareira        42.8            0.0\n",
      "2003-01-16  Cantareira        42.8            0.0\n",
      "2003-01-17  Cantareira        43.3           43.4\n",
      "2003-01-18  Cantareira        44.6           42.6\n",
      "2003-01-19  Cantareira        45.3            6.4\n",
      "2003-01-20  Cantareira        46.1           30.0\n",
      "2003-01-21  Cantareira        46.7            0.0\n",
      "2003-01-22  Cantareira        48.1           49.6\n",
      "2003-01-23  Cantareira        49.2           18.2\n",
      "2003-01-24  Cantareira        50.1           22.2\n",
      "2003-01-25  Cantareira        51.1            1.1\n",
      "2003-01-26  Cantareira        52.1            4.1\n",
      "2003-01-27  Cantareira        53.3           18.5\n",
      "2003-01-28  Cantareira        54.4           16.9\n",
      "2003-01-29  Cantareira        56.0           18.2\n",
      "2003-01-30  Cantareira        57.5            4.3\n",
      "...                ...         ...            ...\n",
      "2015-09-06  Cantareira        15.0            0.0\n",
      "2015-09-07  Cantareira        15.0            0.1\n",
      "2015-09-08  Cantareira        15.0           17.5\n",
      "2015-09-09  Cantareira        15.4           45.8\n",
      "2015-09-10  Cantareira        15.6            0.2\n",
      "2015-09-11  Cantareira        15.7           23.8\n",
      "2015-09-12  Cantareira        16.0           18.3\n",
      "2015-09-13  Cantareira        16.3            1.1\n",
      "2015-09-14  Cantareira        16.4            0.0\n",
      "2015-09-15  Cantareira        16.5            0.0\n",
      "2015-09-16  Cantareira        16.5            0.0\n",
      "2015-09-17  Cantareira        16.5            0.0\n",
      "2015-09-18  Cantareira        16.5            0.0\n",
      "2015-09-19  Cantareira        16.4            0.0\n",
      "2015-09-20  Cantareira        16.4            0.0\n",
      "2015-09-21  Cantareira        16.3            0.0\n",
      "2015-09-22  Cantareira        16.3            0.0\n",
      "2015-09-23  Cantareira        16.2            0.0\n",
      "2015-09-24  Cantareira        16.1            0.0\n",
      "2015-09-25  Cantareira        16.0            0.0\n",
      "2015-09-26  Cantareira        16.1           29.6\n",
      "2015-09-27  Cantareira        16.2            2.0\n",
      "2015-09-28  Cantareira        16.2            9.6\n",
      "2015-09-29  Cantareira        16.2            0.2\n",
      "2015-09-30  Cantareira        16.2            4.2\n",
      "2015-10-01  Cantareira        16.4           28.7\n",
      "2015-10-02  Cantareira        16.5            0.0\n",
      "2015-10-03  Cantareira        16.6           11.8\n",
      "2015-10-04  Cantareira        16.7            0.2\n",
      "2015-10-05  Cantareira        16.7            0.9\n",
      "\n",
      "[4661 rows x 3 columns]\n"
     ]
    }
   ],
   "source": [
    "df = pd.read_csv( Path+filename, index_col =0, parse_dates=True)\n",
    "print df"
   ]
  },
  {
   "cell_type": "markdown",
   "metadata": {
    "deletable": true,
    "editable": true
   },
   "source": [
    "We can verify that the index is a datetime index with the folowing code"
   ]
  },
  {
   "cell_type": "code",
   "execution_count": 16,
   "metadata": {
    "collapsed": true,
    "deletable": true,
    "editable": true
   },
   "outputs": [
    {
     "data": {
      "text/plain": [
       "pandas.tseries.index.DatetimeIndex"
      ]
     },
     "execution_count": 16,
     "metadata": {},
     "output_type": "execute_result"
    }
   ],
   "source": [
    "type(df.index)"
   ]
  },
  {
   "cell_type": "markdown",
   "metadata": {
    "deletable": true,
    "editable": true
   },
   "source": [
    "## Visualising the data structure\n",
    "\n",
    "Methods to quickly give a look at your data:\n",
    "\n",
    "* head\n",
    "* tail\n",
    "* columns\n",
    "* index\n",
    "* values\n",
    "* describe\n",
    "\n",
    "\n"
   ]
  },
  {
   "cell_type": "code",
   "execution_count": 17,
   "metadata": {
    "collapsed": true,
    "deletable": true,
    "editable": true
   },
   "outputs": [
    {
     "data": {
      "text/html": [
       "<div>\n",
       "<table border=\"1\" class=\"dataframe\">\n",
       "  <thead>\n",
       "    <tr style=\"text-align: right;\">\n",
       "      <th></th>\n",
       "      <th>volume (%)</th>\n",
       "      <th>rain (mm/dia)</th>\n",
       "    </tr>\n",
       "  </thead>\n",
       "  <tbody>\n",
       "    <tr>\n",
       "      <th>count</th>\n",
       "      <td>4659.000000</td>\n",
       "      <td>4661.000000</td>\n",
       "    </tr>\n",
       "    <tr>\n",
       "      <th>mean</th>\n",
       "      <td>52.512578</td>\n",
       "      <td>3.787428</td>\n",
       "    </tr>\n",
       "    <tr>\n",
       "      <th>std</th>\n",
       "      <td>24.497958</td>\n",
       "      <td>17.028824</td>\n",
       "    </tr>\n",
       "    <tr>\n",
       "      <th>min</th>\n",
       "      <td>3.000000</td>\n",
       "      <td>-999.000000</td>\n",
       "    </tr>\n",
       "    <tr>\n",
       "      <th>25%</th>\n",
       "      <td>34.600000</td>\n",
       "      <td>0.000000</td>\n",
       "    </tr>\n",
       "    <tr>\n",
       "      <th>50%</th>\n",
       "      <td>51.300000</td>\n",
       "      <td>0.100000</td>\n",
       "    </tr>\n",
       "    <tr>\n",
       "      <th>75%</th>\n",
       "      <td>71.700000</td>\n",
       "      <td>3.500000</td>\n",
       "    </tr>\n",
       "    <tr>\n",
       "      <th>max</th>\n",
       "      <td>100.500000</td>\n",
       "      <td>102.000000</td>\n",
       "    </tr>\n",
       "  </tbody>\n",
       "</table>\n",
       "</div>"
      ],
      "text/plain": [
       "        volume (%)  rain (mm/dia)\n",
       "count  4659.000000    4661.000000\n",
       "mean     52.512578       3.787428\n",
       "std      24.497958      17.028824\n",
       "min       3.000000    -999.000000\n",
       "25%      34.600000       0.000000\n",
       "50%      51.300000       0.100000\n",
       "75%      71.700000       3.500000\n",
       "max     100.500000     102.000000"
      ]
     },
     "execution_count": 17,
     "metadata": {},
     "output_type": "execute_result"
    }
   ],
   "source": [
    "df.describe()"
   ]
  },
  {
   "cell_type": "code",
   "execution_count": 18,
   "metadata": {
    "collapsed": false,
    "deletable": true,
    "editable": true
   },
   "outputs": [
    {
     "data": {
      "text/plain": [
       "Index([u'reservoir', u'volume (%)', u'rain (mm/dia)'], dtype='object')"
      ]
     },
     "execution_count": 18,
     "metadata": {},
     "output_type": "execute_result"
    }
   ],
   "source": [
    "df.columns"
   ]
  },
  {
   "cell_type": "code",
   "execution_count": 19,
   "metadata": {
    "collapsed": true,
    "deletable": true,
    "editable": true
   },
   "outputs": [
    {
     "data": {
      "text/plain": [
       "DatetimeIndex(['2003-01-01', '2003-01-02', '2003-01-03', '2003-01-04',\n",
       "               '2003-01-05', '2003-01-06', '2003-01-07', '2003-01-08',\n",
       "               '2003-01-09', '2003-01-10',\n",
       "               ...\n",
       "               '2015-09-26', '2015-09-27', '2015-09-28', '2015-09-29',\n",
       "               '2015-09-30', '2015-10-01', '2015-10-02', '2015-10-03',\n",
       "               '2015-10-04', '2015-10-05'],\n",
       "              dtype='datetime64[ns]', name=u'dates', length=4661, freq=None)"
      ]
     },
     "execution_count": 19,
     "metadata": {},
     "output_type": "execute_result"
    }
   ],
   "source": [
    "df.index"
   ]
  },
  {
   "cell_type": "markdown",
   "metadata": {
    "deletable": true,
    "editable": true
   },
   "source": [
    "## Selection"
   ]
  },
  {
   "cell_type": "markdown",
   "metadata": {
    "deletable": true,
    "editable": true
   },
   "source": [
    "You can select items in your Pandas data structure in the same style than numpy array.\n",
    "\n",
    "However, Pandas has his own optimized methods for data access:\n",
    "\n",
    "* .at\n",
    "* .iat\n",
    "* .loc\n",
    "* .iloc\n",
    "* .ix"
   ]
  },
  {
   "cell_type": "markdown",
   "metadata": {
    "deletable": true,
    "editable": true
   },
   "source": [
    "#### Opa Numpy style"
   ]
  },
  {
   "cell_type": "markdown",
   "metadata": {
    "deletable": true,
    "editable": true
   },
   "source": [
    "Get a column from the dataframe"
   ]
  },
  {
   "cell_type": "code",
   "execution_count": 20,
   "metadata": {
    "collapsed": true,
    "deletable": true,
    "editable": true
   },
   "outputs": [
    {
     "data": {
      "text/plain": [
       "dates\n",
       "2003-01-01    42.5\n",
       "2003-01-02     NaN\n",
       "2003-01-03    42.3\n",
       "2003-01-04     NaN\n",
       "2003-01-05    42.4\n",
       "2003-01-06    42.4\n",
       "2003-01-07    42.5\n",
       "2003-01-08    42.5\n",
       "2003-01-09    42.6\n",
       "2003-01-10    42.3\n",
       "2003-01-11    42.4\n",
       "2003-01-12    42.6\n",
       "2003-01-13    43.0\n",
       "2003-01-14    42.9\n",
       "2003-01-15    42.8\n",
       "2003-01-16    42.8\n",
       "2003-01-17    43.3\n",
       "2003-01-18    44.6\n",
       "2003-01-19    45.3\n",
       "2003-01-20    46.1\n",
       "2003-01-21    46.7\n",
       "2003-01-22    48.1\n",
       "2003-01-23    49.2\n",
       "2003-01-24    50.1\n",
       "2003-01-25    51.1\n",
       "2003-01-26    52.1\n",
       "2003-01-27    53.3\n",
       "2003-01-28    54.4\n",
       "2003-01-29    56.0\n",
       "2003-01-30    57.5\n",
       "              ... \n",
       "2015-09-06    15.0\n",
       "2015-09-07    15.0\n",
       "2015-09-08    15.0\n",
       "2015-09-09    15.4\n",
       "2015-09-10    15.6\n",
       "2015-09-11    15.7\n",
       "2015-09-12    16.0\n",
       "2015-09-13    16.3\n",
       "2015-09-14    16.4\n",
       "2015-09-15    16.5\n",
       "2015-09-16    16.5\n",
       "2015-09-17    16.5\n",
       "2015-09-18    16.5\n",
       "2015-09-19    16.4\n",
       "2015-09-20    16.4\n",
       "2015-09-21    16.3\n",
       "2015-09-22    16.3\n",
       "2015-09-23    16.2\n",
       "2015-09-24    16.1\n",
       "2015-09-25    16.0\n",
       "2015-09-26    16.1\n",
       "2015-09-27    16.2\n",
       "2015-09-28    16.2\n",
       "2015-09-29    16.2\n",
       "2015-09-30    16.2\n",
       "2015-10-01    16.4\n",
       "2015-10-02    16.5\n",
       "2015-10-03    16.6\n",
       "2015-10-04    16.7\n",
       "2015-10-05    16.7\n",
       "Name: volume (%), dtype: float64"
      ]
     },
     "execution_count": 20,
     "metadata": {},
     "output_type": "execute_result"
    }
   ],
   "source": [
    "df['volume (%)']"
   ]
  },
  {
   "cell_type": "markdown",
   "metadata": {
    "deletable": true,
    "editable": true
   },
   "source": [
    "Get some rows"
   ]
  },
  {
   "cell_type": "code",
   "execution_count": null,
   "metadata": {
    "collapsed": true,
    "deletable": true,
    "editable": true
   },
   "outputs": [],
   "source": [
    "df[0:3]"
   ]
  },
  {
   "cell_type": "code",
   "execution_count": null,
   "metadata": {
    "collapsed": false,
    "deletable": true,
    "editable": true
   },
   "outputs": [],
   "source": [
    "df['2003-01-01':'2004-01-01']"
   ]
  },
  {
   "cell_type": "markdown",
   "metadata": {
    "deletable": true,
    "editable": true
   },
   "source": [
    "#### Selection by label\n",
    "For production code, it is recommended that you take advantage of the optimized pandas data access methods."
   ]
  },
  {
   "cell_type": "code",
   "execution_count": 38,
   "metadata": {
    "collapsed": true,
    "deletable": true,
    "editable": true
   },
   "outputs": [
    {
     "data": {
      "text/plain": [
       "date\n",
       "2003-01-01    42.5\n",
       "2003-01-02     NaN\n",
       "2003-01-03    42.3\n",
       "2003-01-04     NaN\n",
       "2003-01-05    42.4\n",
       "2003-01-06    42.4\n",
       "2003-01-07    42.5\n",
       "2003-01-08    42.5\n",
       "2003-01-09    42.6\n",
       "2003-01-10    42.3\n",
       "2003-01-11    42.4\n",
       "2003-01-12    42.6\n",
       "2003-01-13    43.0\n",
       "2003-01-14    42.9\n",
       "2003-01-15    42.8\n",
       "2003-01-16    42.8\n",
       "2003-01-17    43.3\n",
       "2003-01-18    44.6\n",
       "2003-01-19    45.3\n",
       "2003-01-20    46.1\n",
       "2003-01-21    46.7\n",
       "2003-01-22    48.1\n",
       "2003-01-23    49.2\n",
       "2003-01-24    50.1\n",
       "2003-01-25    51.1\n",
       "2003-01-26    52.1\n",
       "2003-01-27    53.3\n",
       "2003-01-28    54.4\n",
       "2003-01-29    56.0\n",
       "2003-01-30    57.5\n",
       "              ... \n",
       "2003-12-03    18.7\n",
       "2003-12-04    19.0\n",
       "2003-12-05    19.2\n",
       "2003-12-06    19.4\n",
       "2003-12-07    19.5\n",
       "2003-12-08    19.6\n",
       "2003-12-09    19.4\n",
       "2003-12-10    19.6\n",
       "2003-12-11    19.5\n",
       "2003-12-12    19.4\n",
       "2003-12-13    19.3\n",
       "2003-12-14    19.2\n",
       "2003-12-15    19.0\n",
       "2003-12-16    18.8\n",
       "2003-12-17    19.0\n",
       "2003-12-18    19.1\n",
       "2003-12-19    19.1\n",
       "2003-12-20    19.0\n",
       "2003-12-21    19.3\n",
       "2003-12-22    19.6\n",
       "2003-12-23    20.0\n",
       "2003-12-24    20.4\n",
       "2003-12-25    20.5\n",
       "2003-12-26    20.6\n",
       "2003-12-27    20.6\n",
       "2003-12-28    20.5\n",
       "2003-12-29    20.7\n",
       "2003-12-30    20.2\n",
       "2003-12-31    21.7\n",
       "2004-01-01    20.0\n",
       "Name: vol (%), dtype: float64"
      ]
     },
     "execution_count": 38,
     "metadata": {},
     "output_type": "execute_result"
    }
   ],
   "source": [
    "df.loc['2003-01-01':'2004-01-01','vol (%)']"
   ]
  },
  {
   "cell_type": "markdown",
   "metadata": {
    "deletable": true,
    "editable": true
   },
   "source": [
    "#### Selection by Position\n",
    "Select via the position of the passed integers"
   ]
  },
  {
   "cell_type": "code",
   "execution_count": null,
   "metadata": {
    "collapsed": false,
    "deletable": true,
    "editable": true
   },
   "outputs": [],
   "source": [
    "df.iloc[3:5,0:2]"
   ]
  },
  {
   "cell_type": "markdown",
   "metadata": {
    "deletable": true,
    "editable": true
   },
   "source": [
    "#### Boolean Indexing\n",
    "Let's select the events when the Cantareira reservatory was under 5% of its volume  "
   ]
  },
  {
   "cell_type": "code",
   "execution_count": 20,
   "metadata": {
    "collapsed": true,
    "deletable": true,
    "editable": true
   },
   "outputs": [
    {
     "data": {
      "text/html": [
       "<div>\n",
       "<table border=\"1\" class=\"dataframe\">\n",
       "  <thead>\n",
       "    <tr style=\"text-align: right;\">\n",
       "      <th></th>\n",
       "      <th>reservatorio</th>\n",
       "      <th>vol util (%)</th>\n",
       "      <th>prec (mm/dia)</th>\n",
       "    </tr>\n",
       "    <tr>\n",
       "      <th>data</th>\n",
       "      <th></th>\n",
       "      <th></th>\n",
       "      <th></th>\n",
       "    </tr>\n",
       "  </thead>\n",
       "  <tbody>\n",
       "    <tr>\n",
       "      <th>2014-10-12</th>\n",
       "      <td>Cantareira</td>\n",
       "      <td>4.8</td>\n",
       "      <td>0.0</td>\n",
       "    </tr>\n",
       "    <tr>\n",
       "      <th>2014-10-13</th>\n",
       "      <td>Cantareira</td>\n",
       "      <td>4.7</td>\n",
       "      <td>0.0</td>\n",
       "    </tr>\n",
       "    <tr>\n",
       "      <th>2014-10-14</th>\n",
       "      <td>Cantareira</td>\n",
       "      <td>4.5</td>\n",
       "      <td>0.0</td>\n",
       "    </tr>\n",
       "    <tr>\n",
       "      <th>2014-10-15</th>\n",
       "      <td>Cantareira</td>\n",
       "      <td>4.3</td>\n",
       "      <td>0.0</td>\n",
       "    </tr>\n",
       "    <tr>\n",
       "      <th>2014-10-16</th>\n",
       "      <td>Cantareira</td>\n",
       "      <td>4.1</td>\n",
       "      <td>0.0</td>\n",
       "    </tr>\n",
       "    <tr>\n",
       "      <th>2014-10-17</th>\n",
       "      <td>Cantareira</td>\n",
       "      <td>3.9</td>\n",
       "      <td>0.0</td>\n",
       "    </tr>\n",
       "    <tr>\n",
       "      <th>2014-10-18</th>\n",
       "      <td>Cantareira</td>\n",
       "      <td>3.8</td>\n",
       "      <td>0.0</td>\n",
       "    </tr>\n",
       "    <tr>\n",
       "      <th>2014-10-19</th>\n",
       "      <td>Cantareira</td>\n",
       "      <td>3.6</td>\n",
       "      <td>0.0</td>\n",
       "    </tr>\n",
       "    <tr>\n",
       "      <th>2014-10-20</th>\n",
       "      <td>Cantareira</td>\n",
       "      <td>3.5</td>\n",
       "      <td>23.9</td>\n",
       "    </tr>\n",
       "    <tr>\n",
       "      <th>2014-10-21</th>\n",
       "      <td>Cantareira</td>\n",
       "      <td>3.3</td>\n",
       "      <td>0.5</td>\n",
       "    </tr>\n",
       "    <tr>\n",
       "      <th>2014-10-22</th>\n",
       "      <td>Cantareira</td>\n",
       "      <td>3.2</td>\n",
       "      <td>0.3</td>\n",
       "    </tr>\n",
       "    <tr>\n",
       "      <th>2014-10-23</th>\n",
       "      <td>Cantareira</td>\n",
       "      <td>3.0</td>\n",
       "      <td>0.0</td>\n",
       "    </tr>\n",
       "  </tbody>\n",
       "</table>\n",
       "</div>"
      ],
      "text/plain": [
       "           reservatorio  vol util (%)  prec (mm/dia)\n",
       "data                                                \n",
       "2014-10-12   Cantareira           4.8            0.0\n",
       "2014-10-13   Cantareira           4.7            0.0\n",
       "2014-10-14   Cantareira           4.5            0.0\n",
       "2014-10-15   Cantareira           4.3            0.0\n",
       "2014-10-16   Cantareira           4.1            0.0\n",
       "2014-10-17   Cantareira           3.9            0.0\n",
       "2014-10-18   Cantareira           3.8            0.0\n",
       "2014-10-19   Cantareira           3.6            0.0\n",
       "2014-10-20   Cantareira           3.5           23.9\n",
       "2014-10-21   Cantareira           3.3            0.5\n",
       "2014-10-22   Cantareira           3.2            0.3\n",
       "2014-10-23   Cantareira           3.0            0.0"
      ]
     },
     "execution_count": 20,
     "metadata": {},
     "output_type": "execute_result"
    }
   ],
   "source": [
    "df[df['volume (%)'] < 5]"
   ]
  },
  {
   "cell_type": "markdown",
   "metadata": {
    "deletable": true,
    "editable": true
   },
   "source": [
    "## Setting"
   ]
  },
  {
   "cell_type": "markdown",
   "metadata": {
    "collapsed": false,
    "deletable": true,
    "editable": true
   },
   "source": [
    "Adding a new column"
   ]
  },
  {
   "cell_type": "code",
   "execution_count": 23,
   "metadata": {
    "collapsed": true,
    "deletable": true,
    "editable": true
   },
   "outputs": [
    {
     "name": "stdout",
     "output_type": "stream",
     "text": [
      "           reservatorio  vol util (%)  prec (mm/dia)  prec m/dia\n",
      "data                                                            \n",
      "2003-01-01   Cantareira          42.5            0.0      0.0000\n",
      "2003-01-02   Cantareira          42.3           11.1      0.0111\n",
      "2003-01-03   Cantareira          42.3            8.6      0.0086\n",
      "2003-01-04   Cantareira          42.3           14.3      0.0143\n",
      "2003-01-05   Cantareira          42.4           12.7      0.0127\n",
      "2003-01-06   Cantareira          42.4           23.8      0.0238\n",
      "2003-01-07   Cantareira          42.5            0.0      0.0000\n",
      "2003-01-08   Cantareira          42.5            0.0      0.0000\n",
      "2003-01-09   Cantareira          42.6            0.0      0.0000\n",
      "2003-01-10   Cantareira          42.3            0.0      0.0000\n",
      "2003-01-11   Cantareira          42.4           25.0      0.0250\n",
      "2003-01-12   Cantareira          42.6            8.3      0.0083\n",
      "2003-01-13   Cantareira          43.0           23.3      0.0233\n",
      "2003-01-14   Cantareira          42.9            2.8      0.0028\n",
      "2003-01-15   Cantareira          42.8            0.0      0.0000\n",
      "2003-01-16   Cantareira          42.8            0.0      0.0000\n",
      "2003-01-17   Cantareira          43.3           43.4      0.0434\n",
      "2003-01-18   Cantareira          44.6           42.6      0.0426\n",
      "2003-01-19   Cantareira          45.3            6.4      0.0064\n",
      "2003-01-20   Cantareira          46.1           30.0      0.0300\n",
      "2003-01-21   Cantareira          46.7            0.0      0.0000\n",
      "2003-01-22   Cantareira          48.1           49.6      0.0496\n",
      "2003-01-23   Cantareira          49.2           18.2      0.0182\n",
      "2003-01-24   Cantareira          50.1           22.2      0.0222\n",
      "2003-01-25   Cantareira          51.1            1.1      0.0011\n",
      "2003-01-26   Cantareira          52.1            4.1      0.0041\n",
      "2003-01-27   Cantareira          53.3           18.5      0.0185\n",
      "2003-01-28   Cantareira          54.4           16.9      0.0169\n",
      "2003-01-29   Cantareira          56.0           18.2      0.0182\n",
      "2003-01-30   Cantareira          57.5            4.3      0.0043\n",
      "...                 ...           ...            ...         ...\n",
      "2015-09-06   Cantareira          15.0            0.0      0.0000\n",
      "2015-09-07   Cantareira          15.0            0.1      0.0001\n",
      "2015-09-08   Cantareira          15.0           17.5      0.0175\n",
      "2015-09-09   Cantareira          15.4           45.8      0.0458\n",
      "2015-09-10   Cantareira          15.6            0.2      0.0002\n",
      "2015-09-11   Cantareira          15.7           23.8      0.0238\n",
      "2015-09-12   Cantareira          16.0           18.3      0.0183\n",
      "2015-09-13   Cantareira          16.3            1.1      0.0011\n",
      "2015-09-14   Cantareira          16.4            0.0      0.0000\n",
      "2015-09-15   Cantareira          16.5            0.0      0.0000\n",
      "2015-09-16   Cantareira          16.5            0.0      0.0000\n",
      "2015-09-17   Cantareira          16.5            0.0      0.0000\n",
      "2015-09-18   Cantareira          16.5            0.0      0.0000\n",
      "2015-09-19   Cantareira          16.4            0.0      0.0000\n",
      "2015-09-20   Cantareira          16.4            0.0      0.0000\n",
      "2015-09-21   Cantareira          16.3            0.0      0.0000\n",
      "2015-09-22   Cantareira          16.3            0.0      0.0000\n",
      "2015-09-23   Cantareira          16.2            0.0      0.0000\n",
      "2015-09-24   Cantareira          16.1            0.0      0.0000\n",
      "2015-09-25   Cantareira          16.0            0.0      0.0000\n",
      "2015-09-26   Cantareira          16.1           29.6      0.0296\n",
      "2015-09-27   Cantareira          16.2            2.0      0.0020\n",
      "2015-09-28   Cantareira          16.2            9.6      0.0096\n",
      "2015-09-29   Cantareira          16.2            0.2      0.0002\n",
      "2015-09-30   Cantareira          16.2            4.2      0.0042\n",
      "2015-10-01   Cantareira          16.4           28.7      0.0287\n",
      "2015-10-02   Cantareira          16.5            0.0      0.0000\n",
      "2015-10-03   Cantareira          16.6           11.8      0.0118\n",
      "2015-10-04   Cantareira          16.7            0.2      0.0002\n",
      "2015-10-05   Cantareira          16.7            0.9      0.0009\n",
      "\n",
      "[4661 rows x 4 columns]\n"
     ]
    }
   ],
   "source": [
    "df['rain (m/dia)'] = df['rain (mm/dia)']/1000\n",
    "print df"
   ]
  },
  {
   "cell_type": "markdown",
   "metadata": {
    "deletable": true,
    "editable": true
   },
   "source": [
    "## Working with Missing data"
   ]
  },
  {
   "cell_type": "markdown",
   "metadata": {
    "deletable": true,
    "editable": true
   },
   "source": [
    "Pandas uses the object np.nan to represent missing data. \n",
    "Important note: it is by default not included in the operations.\n",
    "\n",
    "Methods to deal with missing data\n",
    "* .isnull\n",
    "* dropna\n",
    "* fillna"
   ]
  },
  {
   "cell_type": "markdown",
   "metadata": {
    "deletable": true,
    "editable": true
   },
   "source": [
    "To drop the NaN from the dataframe"
   ]
  },
  {
   "cell_type": "code",
   "execution_count": 21,
   "metadata": {
    "collapsed": true,
    "deletable": true,
    "editable": true
   },
   "outputs": [
    {
     "data": {
      "text/html": [
       "<div>\n",
       "<table border=\"1\" class=\"dataframe\">\n",
       "  <thead>\n",
       "    <tr style=\"text-align: right;\">\n",
       "      <th></th>\n",
       "      <th>reservoir</th>\n",
       "      <th>volume (%)</th>\n",
       "      <th>rain (mm/dia)</th>\n",
       "    </tr>\n",
       "    <tr>\n",
       "      <th>dates</th>\n",
       "      <th></th>\n",
       "      <th></th>\n",
       "      <th></th>\n",
       "    </tr>\n",
       "  </thead>\n",
       "  <tbody>\n",
       "    <tr>\n",
       "      <th>2003-01-01</th>\n",
       "      <td>Cantareira</td>\n",
       "      <td>42.5</td>\n",
       "      <td>0.0</td>\n",
       "    </tr>\n",
       "    <tr>\n",
       "      <th>2003-01-03</th>\n",
       "      <td>Cantareira</td>\n",
       "      <td>42.3</td>\n",
       "      <td>8.6</td>\n",
       "    </tr>\n",
       "    <tr>\n",
       "      <th>2003-01-05</th>\n",
       "      <td>Cantareira</td>\n",
       "      <td>42.4</td>\n",
       "      <td>12.7</td>\n",
       "    </tr>\n",
       "    <tr>\n",
       "      <th>2003-01-06</th>\n",
       "      <td>Cantareira</td>\n",
       "      <td>42.4</td>\n",
       "      <td>23.8</td>\n",
       "    </tr>\n",
       "    <tr>\n",
       "      <th>2003-01-07</th>\n",
       "      <td>Cantareira</td>\n",
       "      <td>42.5</td>\n",
       "      <td>0.0</td>\n",
       "    </tr>\n",
       "    <tr>\n",
       "      <th>2003-01-08</th>\n",
       "      <td>Cantareira</td>\n",
       "      <td>42.5</td>\n",
       "      <td>0.0</td>\n",
       "    </tr>\n",
       "    <tr>\n",
       "      <th>2003-01-09</th>\n",
       "      <td>Cantareira</td>\n",
       "      <td>42.6</td>\n",
       "      <td>0.0</td>\n",
       "    </tr>\n",
       "    <tr>\n",
       "      <th>2003-01-10</th>\n",
       "      <td>Cantareira</td>\n",
       "      <td>42.3</td>\n",
       "      <td>0.0</td>\n",
       "    </tr>\n",
       "    <tr>\n",
       "      <th>2003-01-11</th>\n",
       "      <td>Cantareira</td>\n",
       "      <td>42.4</td>\n",
       "      <td>25.0</td>\n",
       "    </tr>\n",
       "    <tr>\n",
       "      <th>2003-01-12</th>\n",
       "      <td>Cantareira</td>\n",
       "      <td>42.6</td>\n",
       "      <td>8.3</td>\n",
       "    </tr>\n",
       "    <tr>\n",
       "      <th>2003-01-13</th>\n",
       "      <td>Cantareira</td>\n",
       "      <td>43.0</td>\n",
       "      <td>23.3</td>\n",
       "    </tr>\n",
       "    <tr>\n",
       "      <th>2003-01-14</th>\n",
       "      <td>Cantareira</td>\n",
       "      <td>42.9</td>\n",
       "      <td>2.8</td>\n",
       "    </tr>\n",
       "    <tr>\n",
       "      <th>2003-01-15</th>\n",
       "      <td>Cantareira</td>\n",
       "      <td>42.8</td>\n",
       "      <td>0.0</td>\n",
       "    </tr>\n",
       "    <tr>\n",
       "      <th>2003-01-16</th>\n",
       "      <td>Cantareira</td>\n",
       "      <td>42.8</td>\n",
       "      <td>0.0</td>\n",
       "    </tr>\n",
       "    <tr>\n",
       "      <th>2003-01-17</th>\n",
       "      <td>Cantareira</td>\n",
       "      <td>43.3</td>\n",
       "      <td>43.4</td>\n",
       "    </tr>\n",
       "    <tr>\n",
       "      <th>2003-01-18</th>\n",
       "      <td>Cantareira</td>\n",
       "      <td>44.6</td>\n",
       "      <td>42.6</td>\n",
       "    </tr>\n",
       "    <tr>\n",
       "      <th>2003-01-19</th>\n",
       "      <td>Cantareira</td>\n",
       "      <td>45.3</td>\n",
       "      <td>6.4</td>\n",
       "    </tr>\n",
       "    <tr>\n",
       "      <th>2003-01-20</th>\n",
       "      <td>Cantareira</td>\n",
       "      <td>46.1</td>\n",
       "      <td>30.0</td>\n",
       "    </tr>\n",
       "    <tr>\n",
       "      <th>2003-01-21</th>\n",
       "      <td>Cantareira</td>\n",
       "      <td>46.7</td>\n",
       "      <td>0.0</td>\n",
       "    </tr>\n",
       "    <tr>\n",
       "      <th>2003-01-22</th>\n",
       "      <td>Cantareira</td>\n",
       "      <td>48.1</td>\n",
       "      <td>49.6</td>\n",
       "    </tr>\n",
       "    <tr>\n",
       "      <th>2003-01-23</th>\n",
       "      <td>Cantareira</td>\n",
       "      <td>49.2</td>\n",
       "      <td>18.2</td>\n",
       "    </tr>\n",
       "    <tr>\n",
       "      <th>2003-01-24</th>\n",
       "      <td>Cantareira</td>\n",
       "      <td>50.1</td>\n",
       "      <td>22.2</td>\n",
       "    </tr>\n",
       "    <tr>\n",
       "      <th>2003-01-25</th>\n",
       "      <td>Cantareira</td>\n",
       "      <td>51.1</td>\n",
       "      <td>1.1</td>\n",
       "    </tr>\n",
       "    <tr>\n",
       "      <th>2003-01-26</th>\n",
       "      <td>Cantareira</td>\n",
       "      <td>52.1</td>\n",
       "      <td>4.1</td>\n",
       "    </tr>\n",
       "    <tr>\n",
       "      <th>2003-01-27</th>\n",
       "      <td>Cantareira</td>\n",
       "      <td>53.3</td>\n",
       "      <td>18.5</td>\n",
       "    </tr>\n",
       "    <tr>\n",
       "      <th>2003-01-28</th>\n",
       "      <td>Cantareira</td>\n",
       "      <td>54.4</td>\n",
       "      <td>16.9</td>\n",
       "    </tr>\n",
       "    <tr>\n",
       "      <th>2003-01-29</th>\n",
       "      <td>Cantareira</td>\n",
       "      <td>56.0</td>\n",
       "      <td>18.2</td>\n",
       "    </tr>\n",
       "    <tr>\n",
       "      <th>2003-01-30</th>\n",
       "      <td>Cantareira</td>\n",
       "      <td>57.5</td>\n",
       "      <td>4.3</td>\n",
       "    </tr>\n",
       "    <tr>\n",
       "      <th>2003-01-31</th>\n",
       "      <td>Cantareira</td>\n",
       "      <td>59.1</td>\n",
       "      <td>5.1</td>\n",
       "    </tr>\n",
       "    <tr>\n",
       "      <th>2003-02-01</th>\n",
       "      <td>Cantareira</td>\n",
       "      <td>60.4</td>\n",
       "      <td>10.8</td>\n",
       "    </tr>\n",
       "    <tr>\n",
       "      <th>...</th>\n",
       "      <td>...</td>\n",
       "      <td>...</td>\n",
       "      <td>...</td>\n",
       "    </tr>\n",
       "    <tr>\n",
       "      <th>2015-09-06</th>\n",
       "      <td>Cantareira</td>\n",
       "      <td>15.0</td>\n",
       "      <td>0.0</td>\n",
       "    </tr>\n",
       "    <tr>\n",
       "      <th>2015-09-07</th>\n",
       "      <td>Cantareira</td>\n",
       "      <td>15.0</td>\n",
       "      <td>0.1</td>\n",
       "    </tr>\n",
       "    <tr>\n",
       "      <th>2015-09-08</th>\n",
       "      <td>Cantareira</td>\n",
       "      <td>15.0</td>\n",
       "      <td>17.5</td>\n",
       "    </tr>\n",
       "    <tr>\n",
       "      <th>2015-09-09</th>\n",
       "      <td>Cantareira</td>\n",
       "      <td>15.4</td>\n",
       "      <td>45.8</td>\n",
       "    </tr>\n",
       "    <tr>\n",
       "      <th>2015-09-10</th>\n",
       "      <td>Cantareira</td>\n",
       "      <td>15.6</td>\n",
       "      <td>0.2</td>\n",
       "    </tr>\n",
       "    <tr>\n",
       "      <th>2015-09-11</th>\n",
       "      <td>Cantareira</td>\n",
       "      <td>15.7</td>\n",
       "      <td>23.8</td>\n",
       "    </tr>\n",
       "    <tr>\n",
       "      <th>2015-09-12</th>\n",
       "      <td>Cantareira</td>\n",
       "      <td>16.0</td>\n",
       "      <td>18.3</td>\n",
       "    </tr>\n",
       "    <tr>\n",
       "      <th>2015-09-13</th>\n",
       "      <td>Cantareira</td>\n",
       "      <td>16.3</td>\n",
       "      <td>1.1</td>\n",
       "    </tr>\n",
       "    <tr>\n",
       "      <th>2015-09-14</th>\n",
       "      <td>Cantareira</td>\n",
       "      <td>16.4</td>\n",
       "      <td>0.0</td>\n",
       "    </tr>\n",
       "    <tr>\n",
       "      <th>2015-09-15</th>\n",
       "      <td>Cantareira</td>\n",
       "      <td>16.5</td>\n",
       "      <td>0.0</td>\n",
       "    </tr>\n",
       "    <tr>\n",
       "      <th>2015-09-16</th>\n",
       "      <td>Cantareira</td>\n",
       "      <td>16.5</td>\n",
       "      <td>0.0</td>\n",
       "    </tr>\n",
       "    <tr>\n",
       "      <th>2015-09-17</th>\n",
       "      <td>Cantareira</td>\n",
       "      <td>16.5</td>\n",
       "      <td>0.0</td>\n",
       "    </tr>\n",
       "    <tr>\n",
       "      <th>2015-09-18</th>\n",
       "      <td>Cantareira</td>\n",
       "      <td>16.5</td>\n",
       "      <td>0.0</td>\n",
       "    </tr>\n",
       "    <tr>\n",
       "      <th>2015-09-19</th>\n",
       "      <td>Cantareira</td>\n",
       "      <td>16.4</td>\n",
       "      <td>0.0</td>\n",
       "    </tr>\n",
       "    <tr>\n",
       "      <th>2015-09-20</th>\n",
       "      <td>Cantareira</td>\n",
       "      <td>16.4</td>\n",
       "      <td>0.0</td>\n",
       "    </tr>\n",
       "    <tr>\n",
       "      <th>2015-09-21</th>\n",
       "      <td>Cantareira</td>\n",
       "      <td>16.3</td>\n",
       "      <td>0.0</td>\n",
       "    </tr>\n",
       "    <tr>\n",
       "      <th>2015-09-22</th>\n",
       "      <td>Cantareira</td>\n",
       "      <td>16.3</td>\n",
       "      <td>0.0</td>\n",
       "    </tr>\n",
       "    <tr>\n",
       "      <th>2015-09-23</th>\n",
       "      <td>Cantareira</td>\n",
       "      <td>16.2</td>\n",
       "      <td>0.0</td>\n",
       "    </tr>\n",
       "    <tr>\n",
       "      <th>2015-09-24</th>\n",
       "      <td>Cantareira</td>\n",
       "      <td>16.1</td>\n",
       "      <td>0.0</td>\n",
       "    </tr>\n",
       "    <tr>\n",
       "      <th>2015-09-25</th>\n",
       "      <td>Cantareira</td>\n",
       "      <td>16.0</td>\n",
       "      <td>0.0</td>\n",
       "    </tr>\n",
       "    <tr>\n",
       "      <th>2015-09-26</th>\n",
       "      <td>Cantareira</td>\n",
       "      <td>16.1</td>\n",
       "      <td>29.6</td>\n",
       "    </tr>\n",
       "    <tr>\n",
       "      <th>2015-09-27</th>\n",
       "      <td>Cantareira</td>\n",
       "      <td>16.2</td>\n",
       "      <td>2.0</td>\n",
       "    </tr>\n",
       "    <tr>\n",
       "      <th>2015-09-28</th>\n",
       "      <td>Cantareira</td>\n",
       "      <td>16.2</td>\n",
       "      <td>9.6</td>\n",
       "    </tr>\n",
       "    <tr>\n",
       "      <th>2015-09-29</th>\n",
       "      <td>Cantareira</td>\n",
       "      <td>16.2</td>\n",
       "      <td>0.2</td>\n",
       "    </tr>\n",
       "    <tr>\n",
       "      <th>2015-09-30</th>\n",
       "      <td>Cantareira</td>\n",
       "      <td>16.2</td>\n",
       "      <td>4.2</td>\n",
       "    </tr>\n",
       "    <tr>\n",
       "      <th>2015-10-01</th>\n",
       "      <td>Cantareira</td>\n",
       "      <td>16.4</td>\n",
       "      <td>28.7</td>\n",
       "    </tr>\n",
       "    <tr>\n",
       "      <th>2015-10-02</th>\n",
       "      <td>Cantareira</td>\n",
       "      <td>16.5</td>\n",
       "      <td>0.0</td>\n",
       "    </tr>\n",
       "    <tr>\n",
       "      <th>2015-10-03</th>\n",
       "      <td>Cantareira</td>\n",
       "      <td>16.6</td>\n",
       "      <td>11.8</td>\n",
       "    </tr>\n",
       "    <tr>\n",
       "      <th>2015-10-04</th>\n",
       "      <td>Cantareira</td>\n",
       "      <td>16.7</td>\n",
       "      <td>0.2</td>\n",
       "    </tr>\n",
       "    <tr>\n",
       "      <th>2015-10-05</th>\n",
       "      <td>Cantareira</td>\n",
       "      <td>16.7</td>\n",
       "      <td>0.9</td>\n",
       "    </tr>\n",
       "  </tbody>\n",
       "</table>\n",
       "<p>4659 rows × 3 columns</p>\n",
       "</div>"
      ],
      "text/plain": [
       "             reservoir  volume (%)  rain (mm/dia)\n",
       "dates                                            \n",
       "2003-01-01  Cantareira        42.5            0.0\n",
       "2003-01-03  Cantareira        42.3            8.6\n",
       "2003-01-05  Cantareira        42.4           12.7\n",
       "2003-01-06  Cantareira        42.4           23.8\n",
       "2003-01-07  Cantareira        42.5            0.0\n",
       "2003-01-08  Cantareira        42.5            0.0\n",
       "2003-01-09  Cantareira        42.6            0.0\n",
       "2003-01-10  Cantareira        42.3            0.0\n",
       "2003-01-11  Cantareira        42.4           25.0\n",
       "2003-01-12  Cantareira        42.6            8.3\n",
       "2003-01-13  Cantareira        43.0           23.3\n",
       "2003-01-14  Cantareira        42.9            2.8\n",
       "2003-01-15  Cantareira        42.8            0.0\n",
       "2003-01-16  Cantareira        42.8            0.0\n",
       "2003-01-17  Cantareira        43.3           43.4\n",
       "2003-01-18  Cantareira        44.6           42.6\n",
       "2003-01-19  Cantareira        45.3            6.4\n",
       "2003-01-20  Cantareira        46.1           30.0\n",
       "2003-01-21  Cantareira        46.7            0.0\n",
       "2003-01-22  Cantareira        48.1           49.6\n",
       "2003-01-23  Cantareira        49.2           18.2\n",
       "2003-01-24  Cantareira        50.1           22.2\n",
       "2003-01-25  Cantareira        51.1            1.1\n",
       "2003-01-26  Cantareira        52.1            4.1\n",
       "2003-01-27  Cantareira        53.3           18.5\n",
       "2003-01-28  Cantareira        54.4           16.9\n",
       "2003-01-29  Cantareira        56.0           18.2\n",
       "2003-01-30  Cantareira        57.5            4.3\n",
       "2003-01-31  Cantareira        59.1            5.1\n",
       "2003-02-01  Cantareira        60.4           10.8\n",
       "...                ...         ...            ...\n",
       "2015-09-06  Cantareira        15.0            0.0\n",
       "2015-09-07  Cantareira        15.0            0.1\n",
       "2015-09-08  Cantareira        15.0           17.5\n",
       "2015-09-09  Cantareira        15.4           45.8\n",
       "2015-09-10  Cantareira        15.6            0.2\n",
       "2015-09-11  Cantareira        15.7           23.8\n",
       "2015-09-12  Cantareira        16.0           18.3\n",
       "2015-09-13  Cantareira        16.3            1.1\n",
       "2015-09-14  Cantareira        16.4            0.0\n",
       "2015-09-15  Cantareira        16.5            0.0\n",
       "2015-09-16  Cantareira        16.5            0.0\n",
       "2015-09-17  Cantareira        16.5            0.0\n",
       "2015-09-18  Cantareira        16.5            0.0\n",
       "2015-09-19  Cantareira        16.4            0.0\n",
       "2015-09-20  Cantareira        16.4            0.0\n",
       "2015-09-21  Cantareira        16.3            0.0\n",
       "2015-09-22  Cantareira        16.3            0.0\n",
       "2015-09-23  Cantareira        16.2            0.0\n",
       "2015-09-24  Cantareira        16.1            0.0\n",
       "2015-09-25  Cantareira        16.0            0.0\n",
       "2015-09-26  Cantareira        16.1           29.6\n",
       "2015-09-27  Cantareira        16.2            2.0\n",
       "2015-09-28  Cantareira        16.2            9.6\n",
       "2015-09-29  Cantareira        16.2            0.2\n",
       "2015-09-30  Cantareira        16.2            4.2\n",
       "2015-10-01  Cantareira        16.4           28.7\n",
       "2015-10-02  Cantareira        16.5            0.0\n",
       "2015-10-03  Cantareira        16.6           11.8\n",
       "2015-10-04  Cantareira        16.7            0.2\n",
       "2015-10-05  Cantareira        16.7            0.9\n",
       "\n",
       "[4659 rows x 3 columns]"
      ]
     },
     "execution_count": 21,
     "metadata": {},
     "output_type": "execute_result"
    }
   ],
   "source": [
    "df.dropna(how='any')"
   ]
  },
  {
   "cell_type": "markdown",
   "metadata": {
    "deletable": true,
    "editable": true
   },
   "source": [
    "To fill NaN with a value"
   ]
  },
  {
   "cell_type": "code",
   "execution_count": 22,
   "metadata": {
    "collapsed": true,
    "deletable": true,
    "editable": true
   },
   "outputs": [
    {
     "data": {
      "text/html": [
       "<div>\n",
       "<table border=\"1\" class=\"dataframe\">\n",
       "  <thead>\n",
       "    <tr style=\"text-align: right;\">\n",
       "      <th></th>\n",
       "      <th>reservoir</th>\n",
       "      <th>volume (%)</th>\n",
       "      <th>rain (mm/dia)</th>\n",
       "    </tr>\n",
       "    <tr>\n",
       "      <th>dates</th>\n",
       "      <th></th>\n",
       "      <th></th>\n",
       "      <th></th>\n",
       "    </tr>\n",
       "  </thead>\n",
       "  <tbody>\n",
       "    <tr>\n",
       "      <th>2003-01-01</th>\n",
       "      <td>Cantareira</td>\n",
       "      <td>42.500000</td>\n",
       "      <td>0.0</td>\n",
       "    </tr>\n",
       "    <tr>\n",
       "      <th>2003-01-02</th>\n",
       "      <td>Cantareira</td>\n",
       "      <td>52.512578</td>\n",
       "      <td>11.1</td>\n",
       "    </tr>\n",
       "    <tr>\n",
       "      <th>2003-01-03</th>\n",
       "      <td>Cantareira</td>\n",
       "      <td>42.300000</td>\n",
       "      <td>8.6</td>\n",
       "    </tr>\n",
       "    <tr>\n",
       "      <th>2003-01-04</th>\n",
       "      <td>Cantareira</td>\n",
       "      <td>52.512578</td>\n",
       "      <td>14.3</td>\n",
       "    </tr>\n",
       "    <tr>\n",
       "      <th>2003-01-05</th>\n",
       "      <td>Cantareira</td>\n",
       "      <td>42.400000</td>\n",
       "      <td>12.7</td>\n",
       "    </tr>\n",
       "    <tr>\n",
       "      <th>2003-01-06</th>\n",
       "      <td>Cantareira</td>\n",
       "      <td>42.400000</td>\n",
       "      <td>23.8</td>\n",
       "    </tr>\n",
       "    <tr>\n",
       "      <th>2003-01-07</th>\n",
       "      <td>Cantareira</td>\n",
       "      <td>42.500000</td>\n",
       "      <td>0.0</td>\n",
       "    </tr>\n",
       "    <tr>\n",
       "      <th>2003-01-08</th>\n",
       "      <td>Cantareira</td>\n",
       "      <td>42.500000</td>\n",
       "      <td>0.0</td>\n",
       "    </tr>\n",
       "    <tr>\n",
       "      <th>2003-01-09</th>\n",
       "      <td>Cantareira</td>\n",
       "      <td>42.600000</td>\n",
       "      <td>0.0</td>\n",
       "    </tr>\n",
       "    <tr>\n",
       "      <th>2003-01-10</th>\n",
       "      <td>Cantareira</td>\n",
       "      <td>42.300000</td>\n",
       "      <td>0.0</td>\n",
       "    </tr>\n",
       "    <tr>\n",
       "      <th>2003-01-11</th>\n",
       "      <td>Cantareira</td>\n",
       "      <td>42.400000</td>\n",
       "      <td>25.0</td>\n",
       "    </tr>\n",
       "    <tr>\n",
       "      <th>2003-01-12</th>\n",
       "      <td>Cantareira</td>\n",
       "      <td>42.600000</td>\n",
       "      <td>8.3</td>\n",
       "    </tr>\n",
       "    <tr>\n",
       "      <th>2003-01-13</th>\n",
       "      <td>Cantareira</td>\n",
       "      <td>43.000000</td>\n",
       "      <td>23.3</td>\n",
       "    </tr>\n",
       "    <tr>\n",
       "      <th>2003-01-14</th>\n",
       "      <td>Cantareira</td>\n",
       "      <td>42.900000</td>\n",
       "      <td>2.8</td>\n",
       "    </tr>\n",
       "    <tr>\n",
       "      <th>2003-01-15</th>\n",
       "      <td>Cantareira</td>\n",
       "      <td>42.800000</td>\n",
       "      <td>0.0</td>\n",
       "    </tr>\n",
       "    <tr>\n",
       "      <th>2003-01-16</th>\n",
       "      <td>Cantareira</td>\n",
       "      <td>42.800000</td>\n",
       "      <td>0.0</td>\n",
       "    </tr>\n",
       "    <tr>\n",
       "      <th>2003-01-17</th>\n",
       "      <td>Cantareira</td>\n",
       "      <td>43.300000</td>\n",
       "      <td>43.4</td>\n",
       "    </tr>\n",
       "    <tr>\n",
       "      <th>2003-01-18</th>\n",
       "      <td>Cantareira</td>\n",
       "      <td>44.600000</td>\n",
       "      <td>42.6</td>\n",
       "    </tr>\n",
       "    <tr>\n",
       "      <th>2003-01-19</th>\n",
       "      <td>Cantareira</td>\n",
       "      <td>45.300000</td>\n",
       "      <td>6.4</td>\n",
       "    </tr>\n",
       "    <tr>\n",
       "      <th>2003-01-20</th>\n",
       "      <td>Cantareira</td>\n",
       "      <td>46.100000</td>\n",
       "      <td>30.0</td>\n",
       "    </tr>\n",
       "    <tr>\n",
       "      <th>2003-01-21</th>\n",
       "      <td>Cantareira</td>\n",
       "      <td>46.700000</td>\n",
       "      <td>0.0</td>\n",
       "    </tr>\n",
       "    <tr>\n",
       "      <th>2003-01-22</th>\n",
       "      <td>Cantareira</td>\n",
       "      <td>48.100000</td>\n",
       "      <td>49.6</td>\n",
       "    </tr>\n",
       "    <tr>\n",
       "      <th>2003-01-23</th>\n",
       "      <td>Cantareira</td>\n",
       "      <td>49.200000</td>\n",
       "      <td>18.2</td>\n",
       "    </tr>\n",
       "    <tr>\n",
       "      <th>2003-01-24</th>\n",
       "      <td>Cantareira</td>\n",
       "      <td>50.100000</td>\n",
       "      <td>22.2</td>\n",
       "    </tr>\n",
       "    <tr>\n",
       "      <th>2003-01-25</th>\n",
       "      <td>Cantareira</td>\n",
       "      <td>51.100000</td>\n",
       "      <td>1.1</td>\n",
       "    </tr>\n",
       "    <tr>\n",
       "      <th>2003-01-26</th>\n",
       "      <td>Cantareira</td>\n",
       "      <td>52.100000</td>\n",
       "      <td>4.1</td>\n",
       "    </tr>\n",
       "    <tr>\n",
       "      <th>2003-01-27</th>\n",
       "      <td>Cantareira</td>\n",
       "      <td>53.300000</td>\n",
       "      <td>18.5</td>\n",
       "    </tr>\n",
       "    <tr>\n",
       "      <th>2003-01-28</th>\n",
       "      <td>Cantareira</td>\n",
       "      <td>54.400000</td>\n",
       "      <td>16.9</td>\n",
       "    </tr>\n",
       "    <tr>\n",
       "      <th>2003-01-29</th>\n",
       "      <td>Cantareira</td>\n",
       "      <td>56.000000</td>\n",
       "      <td>18.2</td>\n",
       "    </tr>\n",
       "    <tr>\n",
       "      <th>2003-01-30</th>\n",
       "      <td>Cantareira</td>\n",
       "      <td>57.500000</td>\n",
       "      <td>4.3</td>\n",
       "    </tr>\n",
       "    <tr>\n",
       "      <th>...</th>\n",
       "      <td>...</td>\n",
       "      <td>...</td>\n",
       "      <td>...</td>\n",
       "    </tr>\n",
       "    <tr>\n",
       "      <th>2015-09-06</th>\n",
       "      <td>Cantareira</td>\n",
       "      <td>15.000000</td>\n",
       "      <td>0.0</td>\n",
       "    </tr>\n",
       "    <tr>\n",
       "      <th>2015-09-07</th>\n",
       "      <td>Cantareira</td>\n",
       "      <td>15.000000</td>\n",
       "      <td>0.1</td>\n",
       "    </tr>\n",
       "    <tr>\n",
       "      <th>2015-09-08</th>\n",
       "      <td>Cantareira</td>\n",
       "      <td>15.000000</td>\n",
       "      <td>17.5</td>\n",
       "    </tr>\n",
       "    <tr>\n",
       "      <th>2015-09-09</th>\n",
       "      <td>Cantareira</td>\n",
       "      <td>15.400000</td>\n",
       "      <td>45.8</td>\n",
       "    </tr>\n",
       "    <tr>\n",
       "      <th>2015-09-10</th>\n",
       "      <td>Cantareira</td>\n",
       "      <td>15.600000</td>\n",
       "      <td>0.2</td>\n",
       "    </tr>\n",
       "    <tr>\n",
       "      <th>2015-09-11</th>\n",
       "      <td>Cantareira</td>\n",
       "      <td>15.700000</td>\n",
       "      <td>23.8</td>\n",
       "    </tr>\n",
       "    <tr>\n",
       "      <th>2015-09-12</th>\n",
       "      <td>Cantareira</td>\n",
       "      <td>16.000000</td>\n",
       "      <td>18.3</td>\n",
       "    </tr>\n",
       "    <tr>\n",
       "      <th>2015-09-13</th>\n",
       "      <td>Cantareira</td>\n",
       "      <td>16.300000</td>\n",
       "      <td>1.1</td>\n",
       "    </tr>\n",
       "    <tr>\n",
       "      <th>2015-09-14</th>\n",
       "      <td>Cantareira</td>\n",
       "      <td>16.400000</td>\n",
       "      <td>0.0</td>\n",
       "    </tr>\n",
       "    <tr>\n",
       "      <th>2015-09-15</th>\n",
       "      <td>Cantareira</td>\n",
       "      <td>16.500000</td>\n",
       "      <td>0.0</td>\n",
       "    </tr>\n",
       "    <tr>\n",
       "      <th>2015-09-16</th>\n",
       "      <td>Cantareira</td>\n",
       "      <td>16.500000</td>\n",
       "      <td>0.0</td>\n",
       "    </tr>\n",
       "    <tr>\n",
       "      <th>2015-09-17</th>\n",
       "      <td>Cantareira</td>\n",
       "      <td>16.500000</td>\n",
       "      <td>0.0</td>\n",
       "    </tr>\n",
       "    <tr>\n",
       "      <th>2015-09-18</th>\n",
       "      <td>Cantareira</td>\n",
       "      <td>16.500000</td>\n",
       "      <td>0.0</td>\n",
       "    </tr>\n",
       "    <tr>\n",
       "      <th>2015-09-19</th>\n",
       "      <td>Cantareira</td>\n",
       "      <td>16.400000</td>\n",
       "      <td>0.0</td>\n",
       "    </tr>\n",
       "    <tr>\n",
       "      <th>2015-09-20</th>\n",
       "      <td>Cantareira</td>\n",
       "      <td>16.400000</td>\n",
       "      <td>0.0</td>\n",
       "    </tr>\n",
       "    <tr>\n",
       "      <th>2015-09-21</th>\n",
       "      <td>Cantareira</td>\n",
       "      <td>16.300000</td>\n",
       "      <td>0.0</td>\n",
       "    </tr>\n",
       "    <tr>\n",
       "      <th>2015-09-22</th>\n",
       "      <td>Cantareira</td>\n",
       "      <td>16.300000</td>\n",
       "      <td>0.0</td>\n",
       "    </tr>\n",
       "    <tr>\n",
       "      <th>2015-09-23</th>\n",
       "      <td>Cantareira</td>\n",
       "      <td>16.200000</td>\n",
       "      <td>0.0</td>\n",
       "    </tr>\n",
       "    <tr>\n",
       "      <th>2015-09-24</th>\n",
       "      <td>Cantareira</td>\n",
       "      <td>16.100000</td>\n",
       "      <td>0.0</td>\n",
       "    </tr>\n",
       "    <tr>\n",
       "      <th>2015-09-25</th>\n",
       "      <td>Cantareira</td>\n",
       "      <td>16.000000</td>\n",
       "      <td>0.0</td>\n",
       "    </tr>\n",
       "    <tr>\n",
       "      <th>2015-09-26</th>\n",
       "      <td>Cantareira</td>\n",
       "      <td>16.100000</td>\n",
       "      <td>29.6</td>\n",
       "    </tr>\n",
       "    <tr>\n",
       "      <th>2015-09-27</th>\n",
       "      <td>Cantareira</td>\n",
       "      <td>16.200000</td>\n",
       "      <td>2.0</td>\n",
       "    </tr>\n",
       "    <tr>\n",
       "      <th>2015-09-28</th>\n",
       "      <td>Cantareira</td>\n",
       "      <td>16.200000</td>\n",
       "      <td>9.6</td>\n",
       "    </tr>\n",
       "    <tr>\n",
       "      <th>2015-09-29</th>\n",
       "      <td>Cantareira</td>\n",
       "      <td>16.200000</td>\n",
       "      <td>0.2</td>\n",
       "    </tr>\n",
       "    <tr>\n",
       "      <th>2015-09-30</th>\n",
       "      <td>Cantareira</td>\n",
       "      <td>16.200000</td>\n",
       "      <td>4.2</td>\n",
       "    </tr>\n",
       "    <tr>\n",
       "      <th>2015-10-01</th>\n",
       "      <td>Cantareira</td>\n",
       "      <td>16.400000</td>\n",
       "      <td>28.7</td>\n",
       "    </tr>\n",
       "    <tr>\n",
       "      <th>2015-10-02</th>\n",
       "      <td>Cantareira</td>\n",
       "      <td>16.500000</td>\n",
       "      <td>0.0</td>\n",
       "    </tr>\n",
       "    <tr>\n",
       "      <th>2015-10-03</th>\n",
       "      <td>Cantareira</td>\n",
       "      <td>16.600000</td>\n",
       "      <td>11.8</td>\n",
       "    </tr>\n",
       "    <tr>\n",
       "      <th>2015-10-04</th>\n",
       "      <td>Cantareira</td>\n",
       "      <td>16.700000</td>\n",
       "      <td>0.2</td>\n",
       "    </tr>\n",
       "    <tr>\n",
       "      <th>2015-10-05</th>\n",
       "      <td>Cantareira</td>\n",
       "      <td>16.700000</td>\n",
       "      <td>0.9</td>\n",
       "    </tr>\n",
       "  </tbody>\n",
       "</table>\n",
       "<p>4661 rows × 3 columns</p>\n",
       "</div>"
      ],
      "text/plain": [
       "             reservoir  volume (%)  rain (mm/dia)\n",
       "dates                                            \n",
       "2003-01-01  Cantareira   42.500000            0.0\n",
       "2003-01-02  Cantareira   52.512578           11.1\n",
       "2003-01-03  Cantareira   42.300000            8.6\n",
       "2003-01-04  Cantareira   52.512578           14.3\n",
       "2003-01-05  Cantareira   42.400000           12.7\n",
       "2003-01-06  Cantareira   42.400000           23.8\n",
       "2003-01-07  Cantareira   42.500000            0.0\n",
       "2003-01-08  Cantareira   42.500000            0.0\n",
       "2003-01-09  Cantareira   42.600000            0.0\n",
       "2003-01-10  Cantareira   42.300000            0.0\n",
       "2003-01-11  Cantareira   42.400000           25.0\n",
       "2003-01-12  Cantareira   42.600000            8.3\n",
       "2003-01-13  Cantareira   43.000000           23.3\n",
       "2003-01-14  Cantareira   42.900000            2.8\n",
       "2003-01-15  Cantareira   42.800000            0.0\n",
       "2003-01-16  Cantareira   42.800000            0.0\n",
       "2003-01-17  Cantareira   43.300000           43.4\n",
       "2003-01-18  Cantareira   44.600000           42.6\n",
       "2003-01-19  Cantareira   45.300000            6.4\n",
       "2003-01-20  Cantareira   46.100000           30.0\n",
       "2003-01-21  Cantareira   46.700000            0.0\n",
       "2003-01-22  Cantareira   48.100000           49.6\n",
       "2003-01-23  Cantareira   49.200000           18.2\n",
       "2003-01-24  Cantareira   50.100000           22.2\n",
       "2003-01-25  Cantareira   51.100000            1.1\n",
       "2003-01-26  Cantareira   52.100000            4.1\n",
       "2003-01-27  Cantareira   53.300000           18.5\n",
       "2003-01-28  Cantareira   54.400000           16.9\n",
       "2003-01-29  Cantareira   56.000000           18.2\n",
       "2003-01-30  Cantareira   57.500000            4.3\n",
       "...                ...         ...            ...\n",
       "2015-09-06  Cantareira   15.000000            0.0\n",
       "2015-09-07  Cantareira   15.000000            0.1\n",
       "2015-09-08  Cantareira   15.000000           17.5\n",
       "2015-09-09  Cantareira   15.400000           45.8\n",
       "2015-09-10  Cantareira   15.600000            0.2\n",
       "2015-09-11  Cantareira   15.700000           23.8\n",
       "2015-09-12  Cantareira   16.000000           18.3\n",
       "2015-09-13  Cantareira   16.300000            1.1\n",
       "2015-09-14  Cantareira   16.400000            0.0\n",
       "2015-09-15  Cantareira   16.500000            0.0\n",
       "2015-09-16  Cantareira   16.500000            0.0\n",
       "2015-09-17  Cantareira   16.500000            0.0\n",
       "2015-09-18  Cantareira   16.500000            0.0\n",
       "2015-09-19  Cantareira   16.400000            0.0\n",
       "2015-09-20  Cantareira   16.400000            0.0\n",
       "2015-09-21  Cantareira   16.300000            0.0\n",
       "2015-09-22  Cantareira   16.300000            0.0\n",
       "2015-09-23  Cantareira   16.200000            0.0\n",
       "2015-09-24  Cantareira   16.100000            0.0\n",
       "2015-09-25  Cantareira   16.000000            0.0\n",
       "2015-09-26  Cantareira   16.100000           29.6\n",
       "2015-09-27  Cantareira   16.200000            2.0\n",
       "2015-09-28  Cantareira   16.200000            9.6\n",
       "2015-09-29  Cantareira   16.200000            0.2\n",
       "2015-09-30  Cantareira   16.200000            4.2\n",
       "2015-10-01  Cantareira   16.400000           28.7\n",
       "2015-10-02  Cantareira   16.500000            0.0\n",
       "2015-10-03  Cantareira   16.600000           11.8\n",
       "2015-10-04  Cantareira   16.700000            0.2\n",
       "2015-10-05  Cantareira   16.700000            0.9\n",
       "\n",
       "[4661 rows x 3 columns]"
      ]
     },
     "execution_count": 22,
     "metadata": {},
     "output_type": "execute_result"
    }
   ],
   "source": [
    "df.fillna(value=df.mean())"
   ]
  },
  {
   "cell_type": "markdown",
   "metadata": {
    "deletable": true,
    "editable": true
   },
   "source": [
    "To interpolate where their is missing data"
   ]
  },
  {
   "cell_type": "code",
   "execution_count": 23,
   "metadata": {
    "collapsed": true,
    "deletable": true,
    "editable": true
   },
   "outputs": [
    {
     "data": {
      "text/html": [
       "<div>\n",
       "<table border=\"1\" class=\"dataframe\">\n",
       "  <thead>\n",
       "    <tr style=\"text-align: right;\">\n",
       "      <th></th>\n",
       "      <th>reservoir</th>\n",
       "      <th>volume (%)</th>\n",
       "      <th>rain (mm/dia)</th>\n",
       "    </tr>\n",
       "    <tr>\n",
       "      <th>dates</th>\n",
       "      <th></th>\n",
       "      <th></th>\n",
       "      <th></th>\n",
       "    </tr>\n",
       "  </thead>\n",
       "  <tbody>\n",
       "    <tr>\n",
       "      <th>2003-01-01</th>\n",
       "      <td>Cantareira</td>\n",
       "      <td>42.50</td>\n",
       "      <td>0.0</td>\n",
       "    </tr>\n",
       "    <tr>\n",
       "      <th>2003-01-02</th>\n",
       "      <td>Cantareira</td>\n",
       "      <td>42.40</td>\n",
       "      <td>11.1</td>\n",
       "    </tr>\n",
       "    <tr>\n",
       "      <th>2003-01-03</th>\n",
       "      <td>Cantareira</td>\n",
       "      <td>42.30</td>\n",
       "      <td>8.6</td>\n",
       "    </tr>\n",
       "    <tr>\n",
       "      <th>2003-01-04</th>\n",
       "      <td>Cantareira</td>\n",
       "      <td>42.35</td>\n",
       "      <td>14.3</td>\n",
       "    </tr>\n",
       "    <tr>\n",
       "      <th>2003-01-05</th>\n",
       "      <td>Cantareira</td>\n",
       "      <td>42.40</td>\n",
       "      <td>12.7</td>\n",
       "    </tr>\n",
       "    <tr>\n",
       "      <th>2003-01-06</th>\n",
       "      <td>Cantareira</td>\n",
       "      <td>42.40</td>\n",
       "      <td>23.8</td>\n",
       "    </tr>\n",
       "    <tr>\n",
       "      <th>2003-01-07</th>\n",
       "      <td>Cantareira</td>\n",
       "      <td>42.50</td>\n",
       "      <td>0.0</td>\n",
       "    </tr>\n",
       "    <tr>\n",
       "      <th>2003-01-08</th>\n",
       "      <td>Cantareira</td>\n",
       "      <td>42.50</td>\n",
       "      <td>0.0</td>\n",
       "    </tr>\n",
       "    <tr>\n",
       "      <th>2003-01-09</th>\n",
       "      <td>Cantareira</td>\n",
       "      <td>42.60</td>\n",
       "      <td>0.0</td>\n",
       "    </tr>\n",
       "    <tr>\n",
       "      <th>2003-01-10</th>\n",
       "      <td>Cantareira</td>\n",
       "      <td>42.30</td>\n",
       "      <td>0.0</td>\n",
       "    </tr>\n",
       "    <tr>\n",
       "      <th>2003-01-11</th>\n",
       "      <td>Cantareira</td>\n",
       "      <td>42.40</td>\n",
       "      <td>25.0</td>\n",
       "    </tr>\n",
       "    <tr>\n",
       "      <th>2003-01-12</th>\n",
       "      <td>Cantareira</td>\n",
       "      <td>42.60</td>\n",
       "      <td>8.3</td>\n",
       "    </tr>\n",
       "    <tr>\n",
       "      <th>2003-01-13</th>\n",
       "      <td>Cantareira</td>\n",
       "      <td>43.00</td>\n",
       "      <td>23.3</td>\n",
       "    </tr>\n",
       "    <tr>\n",
       "      <th>2003-01-14</th>\n",
       "      <td>Cantareira</td>\n",
       "      <td>42.90</td>\n",
       "      <td>2.8</td>\n",
       "    </tr>\n",
       "    <tr>\n",
       "      <th>2003-01-15</th>\n",
       "      <td>Cantareira</td>\n",
       "      <td>42.80</td>\n",
       "      <td>0.0</td>\n",
       "    </tr>\n",
       "    <tr>\n",
       "      <th>2003-01-16</th>\n",
       "      <td>Cantareira</td>\n",
       "      <td>42.80</td>\n",
       "      <td>0.0</td>\n",
       "    </tr>\n",
       "    <tr>\n",
       "      <th>2003-01-17</th>\n",
       "      <td>Cantareira</td>\n",
       "      <td>43.30</td>\n",
       "      <td>43.4</td>\n",
       "    </tr>\n",
       "    <tr>\n",
       "      <th>2003-01-18</th>\n",
       "      <td>Cantareira</td>\n",
       "      <td>44.60</td>\n",
       "      <td>42.6</td>\n",
       "    </tr>\n",
       "    <tr>\n",
       "      <th>2003-01-19</th>\n",
       "      <td>Cantareira</td>\n",
       "      <td>45.30</td>\n",
       "      <td>6.4</td>\n",
       "    </tr>\n",
       "    <tr>\n",
       "      <th>2003-01-20</th>\n",
       "      <td>Cantareira</td>\n",
       "      <td>46.10</td>\n",
       "      <td>30.0</td>\n",
       "    </tr>\n",
       "    <tr>\n",
       "      <th>2003-01-21</th>\n",
       "      <td>Cantareira</td>\n",
       "      <td>46.70</td>\n",
       "      <td>0.0</td>\n",
       "    </tr>\n",
       "    <tr>\n",
       "      <th>2003-01-22</th>\n",
       "      <td>Cantareira</td>\n",
       "      <td>48.10</td>\n",
       "      <td>49.6</td>\n",
       "    </tr>\n",
       "    <tr>\n",
       "      <th>2003-01-23</th>\n",
       "      <td>Cantareira</td>\n",
       "      <td>49.20</td>\n",
       "      <td>18.2</td>\n",
       "    </tr>\n",
       "    <tr>\n",
       "      <th>2003-01-24</th>\n",
       "      <td>Cantareira</td>\n",
       "      <td>50.10</td>\n",
       "      <td>22.2</td>\n",
       "    </tr>\n",
       "    <tr>\n",
       "      <th>2003-01-25</th>\n",
       "      <td>Cantareira</td>\n",
       "      <td>51.10</td>\n",
       "      <td>1.1</td>\n",
       "    </tr>\n",
       "    <tr>\n",
       "      <th>2003-01-26</th>\n",
       "      <td>Cantareira</td>\n",
       "      <td>52.10</td>\n",
       "      <td>4.1</td>\n",
       "    </tr>\n",
       "    <tr>\n",
       "      <th>2003-01-27</th>\n",
       "      <td>Cantareira</td>\n",
       "      <td>53.30</td>\n",
       "      <td>18.5</td>\n",
       "    </tr>\n",
       "    <tr>\n",
       "      <th>2003-01-28</th>\n",
       "      <td>Cantareira</td>\n",
       "      <td>54.40</td>\n",
       "      <td>16.9</td>\n",
       "    </tr>\n",
       "    <tr>\n",
       "      <th>2003-01-29</th>\n",
       "      <td>Cantareira</td>\n",
       "      <td>56.00</td>\n",
       "      <td>18.2</td>\n",
       "    </tr>\n",
       "    <tr>\n",
       "      <th>2003-01-30</th>\n",
       "      <td>Cantareira</td>\n",
       "      <td>57.50</td>\n",
       "      <td>4.3</td>\n",
       "    </tr>\n",
       "    <tr>\n",
       "      <th>...</th>\n",
       "      <td>...</td>\n",
       "      <td>...</td>\n",
       "      <td>...</td>\n",
       "    </tr>\n",
       "    <tr>\n",
       "      <th>2015-09-06</th>\n",
       "      <td>Cantareira</td>\n",
       "      <td>15.00</td>\n",
       "      <td>0.0</td>\n",
       "    </tr>\n",
       "    <tr>\n",
       "      <th>2015-09-07</th>\n",
       "      <td>Cantareira</td>\n",
       "      <td>15.00</td>\n",
       "      <td>0.1</td>\n",
       "    </tr>\n",
       "    <tr>\n",
       "      <th>2015-09-08</th>\n",
       "      <td>Cantareira</td>\n",
       "      <td>15.00</td>\n",
       "      <td>17.5</td>\n",
       "    </tr>\n",
       "    <tr>\n",
       "      <th>2015-09-09</th>\n",
       "      <td>Cantareira</td>\n",
       "      <td>15.40</td>\n",
       "      <td>45.8</td>\n",
       "    </tr>\n",
       "    <tr>\n",
       "      <th>2015-09-10</th>\n",
       "      <td>Cantareira</td>\n",
       "      <td>15.60</td>\n",
       "      <td>0.2</td>\n",
       "    </tr>\n",
       "    <tr>\n",
       "      <th>2015-09-11</th>\n",
       "      <td>Cantareira</td>\n",
       "      <td>15.70</td>\n",
       "      <td>23.8</td>\n",
       "    </tr>\n",
       "    <tr>\n",
       "      <th>2015-09-12</th>\n",
       "      <td>Cantareira</td>\n",
       "      <td>16.00</td>\n",
       "      <td>18.3</td>\n",
       "    </tr>\n",
       "    <tr>\n",
       "      <th>2015-09-13</th>\n",
       "      <td>Cantareira</td>\n",
       "      <td>16.30</td>\n",
       "      <td>1.1</td>\n",
       "    </tr>\n",
       "    <tr>\n",
       "      <th>2015-09-14</th>\n",
       "      <td>Cantareira</td>\n",
       "      <td>16.40</td>\n",
       "      <td>0.0</td>\n",
       "    </tr>\n",
       "    <tr>\n",
       "      <th>2015-09-15</th>\n",
       "      <td>Cantareira</td>\n",
       "      <td>16.50</td>\n",
       "      <td>0.0</td>\n",
       "    </tr>\n",
       "    <tr>\n",
       "      <th>2015-09-16</th>\n",
       "      <td>Cantareira</td>\n",
       "      <td>16.50</td>\n",
       "      <td>0.0</td>\n",
       "    </tr>\n",
       "    <tr>\n",
       "      <th>2015-09-17</th>\n",
       "      <td>Cantareira</td>\n",
       "      <td>16.50</td>\n",
       "      <td>0.0</td>\n",
       "    </tr>\n",
       "    <tr>\n",
       "      <th>2015-09-18</th>\n",
       "      <td>Cantareira</td>\n",
       "      <td>16.50</td>\n",
       "      <td>0.0</td>\n",
       "    </tr>\n",
       "    <tr>\n",
       "      <th>2015-09-19</th>\n",
       "      <td>Cantareira</td>\n",
       "      <td>16.40</td>\n",
       "      <td>0.0</td>\n",
       "    </tr>\n",
       "    <tr>\n",
       "      <th>2015-09-20</th>\n",
       "      <td>Cantareira</td>\n",
       "      <td>16.40</td>\n",
       "      <td>0.0</td>\n",
       "    </tr>\n",
       "    <tr>\n",
       "      <th>2015-09-21</th>\n",
       "      <td>Cantareira</td>\n",
       "      <td>16.30</td>\n",
       "      <td>0.0</td>\n",
       "    </tr>\n",
       "    <tr>\n",
       "      <th>2015-09-22</th>\n",
       "      <td>Cantareira</td>\n",
       "      <td>16.30</td>\n",
       "      <td>0.0</td>\n",
       "    </tr>\n",
       "    <tr>\n",
       "      <th>2015-09-23</th>\n",
       "      <td>Cantareira</td>\n",
       "      <td>16.20</td>\n",
       "      <td>0.0</td>\n",
       "    </tr>\n",
       "    <tr>\n",
       "      <th>2015-09-24</th>\n",
       "      <td>Cantareira</td>\n",
       "      <td>16.10</td>\n",
       "      <td>0.0</td>\n",
       "    </tr>\n",
       "    <tr>\n",
       "      <th>2015-09-25</th>\n",
       "      <td>Cantareira</td>\n",
       "      <td>16.00</td>\n",
       "      <td>0.0</td>\n",
       "    </tr>\n",
       "    <tr>\n",
       "      <th>2015-09-26</th>\n",
       "      <td>Cantareira</td>\n",
       "      <td>16.10</td>\n",
       "      <td>29.6</td>\n",
       "    </tr>\n",
       "    <tr>\n",
       "      <th>2015-09-27</th>\n",
       "      <td>Cantareira</td>\n",
       "      <td>16.20</td>\n",
       "      <td>2.0</td>\n",
       "    </tr>\n",
       "    <tr>\n",
       "      <th>2015-09-28</th>\n",
       "      <td>Cantareira</td>\n",
       "      <td>16.20</td>\n",
       "      <td>9.6</td>\n",
       "    </tr>\n",
       "    <tr>\n",
       "      <th>2015-09-29</th>\n",
       "      <td>Cantareira</td>\n",
       "      <td>16.20</td>\n",
       "      <td>0.2</td>\n",
       "    </tr>\n",
       "    <tr>\n",
       "      <th>2015-09-30</th>\n",
       "      <td>Cantareira</td>\n",
       "      <td>16.20</td>\n",
       "      <td>4.2</td>\n",
       "    </tr>\n",
       "    <tr>\n",
       "      <th>2015-10-01</th>\n",
       "      <td>Cantareira</td>\n",
       "      <td>16.40</td>\n",
       "      <td>28.7</td>\n",
       "    </tr>\n",
       "    <tr>\n",
       "      <th>2015-10-02</th>\n",
       "      <td>Cantareira</td>\n",
       "      <td>16.50</td>\n",
       "      <td>0.0</td>\n",
       "    </tr>\n",
       "    <tr>\n",
       "      <th>2015-10-03</th>\n",
       "      <td>Cantareira</td>\n",
       "      <td>16.60</td>\n",
       "      <td>11.8</td>\n",
       "    </tr>\n",
       "    <tr>\n",
       "      <th>2015-10-04</th>\n",
       "      <td>Cantareira</td>\n",
       "      <td>16.70</td>\n",
       "      <td>0.2</td>\n",
       "    </tr>\n",
       "    <tr>\n",
       "      <th>2015-10-05</th>\n",
       "      <td>Cantareira</td>\n",
       "      <td>16.70</td>\n",
       "      <td>0.9</td>\n",
       "    </tr>\n",
       "  </tbody>\n",
       "</table>\n",
       "<p>4661 rows × 3 columns</p>\n",
       "</div>"
      ],
      "text/plain": [
       "             reservoir  volume (%)  rain (mm/dia)\n",
       "dates                                            \n",
       "2003-01-01  Cantareira       42.50            0.0\n",
       "2003-01-02  Cantareira       42.40           11.1\n",
       "2003-01-03  Cantareira       42.30            8.6\n",
       "2003-01-04  Cantareira       42.35           14.3\n",
       "2003-01-05  Cantareira       42.40           12.7\n",
       "2003-01-06  Cantareira       42.40           23.8\n",
       "2003-01-07  Cantareira       42.50            0.0\n",
       "2003-01-08  Cantareira       42.50            0.0\n",
       "2003-01-09  Cantareira       42.60            0.0\n",
       "2003-01-10  Cantareira       42.30            0.0\n",
       "2003-01-11  Cantareira       42.40           25.0\n",
       "2003-01-12  Cantareira       42.60            8.3\n",
       "2003-01-13  Cantareira       43.00           23.3\n",
       "2003-01-14  Cantareira       42.90            2.8\n",
       "2003-01-15  Cantareira       42.80            0.0\n",
       "2003-01-16  Cantareira       42.80            0.0\n",
       "2003-01-17  Cantareira       43.30           43.4\n",
       "2003-01-18  Cantareira       44.60           42.6\n",
       "2003-01-19  Cantareira       45.30            6.4\n",
       "2003-01-20  Cantareira       46.10           30.0\n",
       "2003-01-21  Cantareira       46.70            0.0\n",
       "2003-01-22  Cantareira       48.10           49.6\n",
       "2003-01-23  Cantareira       49.20           18.2\n",
       "2003-01-24  Cantareira       50.10           22.2\n",
       "2003-01-25  Cantareira       51.10            1.1\n",
       "2003-01-26  Cantareira       52.10            4.1\n",
       "2003-01-27  Cantareira       53.30           18.5\n",
       "2003-01-28  Cantareira       54.40           16.9\n",
       "2003-01-29  Cantareira       56.00           18.2\n",
       "2003-01-30  Cantareira       57.50            4.3\n",
       "...                ...         ...            ...\n",
       "2015-09-06  Cantareira       15.00            0.0\n",
       "2015-09-07  Cantareira       15.00            0.1\n",
       "2015-09-08  Cantareira       15.00           17.5\n",
       "2015-09-09  Cantareira       15.40           45.8\n",
       "2015-09-10  Cantareira       15.60            0.2\n",
       "2015-09-11  Cantareira       15.70           23.8\n",
       "2015-09-12  Cantareira       16.00           18.3\n",
       "2015-09-13  Cantareira       16.30            1.1\n",
       "2015-09-14  Cantareira       16.40            0.0\n",
       "2015-09-15  Cantareira       16.50            0.0\n",
       "2015-09-16  Cantareira       16.50            0.0\n",
       "2015-09-17  Cantareira       16.50            0.0\n",
       "2015-09-18  Cantareira       16.50            0.0\n",
       "2015-09-19  Cantareira       16.40            0.0\n",
       "2015-09-20  Cantareira       16.40            0.0\n",
       "2015-09-21  Cantareira       16.30            0.0\n",
       "2015-09-22  Cantareira       16.30            0.0\n",
       "2015-09-23  Cantareira       16.20            0.0\n",
       "2015-09-24  Cantareira       16.10            0.0\n",
       "2015-09-25  Cantareira       16.00            0.0\n",
       "2015-09-26  Cantareira       16.10           29.6\n",
       "2015-09-27  Cantareira       16.20            2.0\n",
       "2015-09-28  Cantareira       16.20            9.6\n",
       "2015-09-29  Cantareira       16.20            0.2\n",
       "2015-09-30  Cantareira       16.20            4.2\n",
       "2015-10-01  Cantareira       16.40           28.7\n",
       "2015-10-02  Cantareira       16.50            0.0\n",
       "2015-10-03  Cantareira       16.60           11.8\n",
       "2015-10-04  Cantareira       16.70            0.2\n",
       "2015-10-05  Cantareira       16.70            0.9\n",
       "\n",
       "[4661 rows x 3 columns]"
      ]
     },
     "execution_count": 23,
     "metadata": {},
     "output_type": "execute_result"
    }
   ],
   "source": [
    "df.interpolate(\"linear\")"
   ]
  },
  {
   "cell_type": "markdown",
   "metadata": {
    "deletable": true,
    "editable": true
   },
   "source": [
    "# Operations\n",
    "Pandas includes a lot of methods to perform operations along an axis."
   ]
  },
  {
   "cell_type": "markdown",
   "metadata": {
    "collapsed": true,
    "deletable": true,
    "editable": true
   },
   "source": [
    "* count:\tNumber of non-null observations\n",
    "* sum:\tSum of values\n",
    "* mean:\tMean of values\n",
    "* mad:\tMean absolute deviation\n",
    "* median:\tArithmetic median of values\n",
    "* min:\tMinimum\n",
    "* max:\tMaximum\n",
    "* mode:\tMode\n",
    "* abs:\tAbsolute Value\n",
    "* prod:\tProduct of values\n",
    "* std:\tBessel-corrected sample standard deviation\n",
    "* var:\tUnbiased variance\n",
    "* sem:\tStandard error of the mean\n",
    "* skew:\tSample skewness (3rd moment)\n",
    "* kurt:\tSample kurtosis (4th moment)\n",
    "* quantile:\tSample quantile (value at %)\n",
    "* cumsum:\tCumulative sum\n",
    "* cumprod:\tCumulative product\n",
    "* cummax:\tCumulative maximum\n",
    "* cummin:\tCumulative minimum"
   ]
  },
  {
   "cell_type": "markdown",
   "metadata": {
    "deletable": true,
    "editable": true
   },
   "source": [
    "Perform the mean of each dataframe columns."
   ]
  },
  {
   "cell_type": "code",
   "execution_count": 24,
   "metadata": {
    "collapsed": false,
    "deletable": true,
    "editable": true,
    "scrolled": false
   },
   "outputs": [
    {
     "data": {
      "text/plain": [
       "volume (%)       52.512578\n",
       "rain (mm/dia)     3.787428\n",
       "dtype: float64"
      ]
     },
     "execution_count": 24,
     "metadata": {},
     "output_type": "execute_result"
    }
   ],
   "source": [
    "df.mean(axis=0)"
   ]
  },
  {
   "cell_type": "markdown",
   "metadata": {
    "deletable": true,
    "editable": true
   },
   "source": [
    "#### Apply \n",
    "You can also pass a function along an axis with the apply method. \n",
    "This method is very efficient to iterate along the axis, much faster than a for loop for example."
   ]
  },
  {
   "cell_type": "code",
   "execution_count": null,
   "metadata": {
    "collapsed": false,
    "deletable": true,
    "editable": true
   },
   "outputs": [],
   "source": [
    "df['rain (mm/dia)'].apply(np.sqrt)"
   ]
  },
  {
   "cell_type": "markdown",
   "metadata": {
    "deletable": true,
    "editable": true
   },
   "source": [
    "## Merge data structures"
   ]
  },
  {
   "cell_type": "markdown",
   "metadata": {
    "deletable": true,
    "editable": true
   },
   "source": [
    "Pandas provide different methods to merge Series, Dataframe and Paneis:\n",
    "\n",
    "* Merge \n",
    "* join\n",
    "* concat\n",
    "* append\n"
   ]
  },
  {
   "cell_type": "markdown",
   "metadata": {
    "deletable": true,
    "editable": true
   },
   "source": [
    "#### Let's merge our dataframe with the observed temperature from external file."
   ]
  },
  {
   "cell_type": "code",
   "execution_count": 26,
   "metadata": {
    "collapsed": true,
    "deletable": true,
    "editable": true
   },
   "outputs": [
    {
     "name": "stdout",
     "output_type": "stream",
     "text": [
      "                      temperature (C)\n",
      "dates                                \n",
      "2014-09-03 00:34:00             14.40\n",
      "2014-09-03 00:36:00             12.14\n",
      "2014-09-03 00:38:00             12.09\n",
      "2014-09-03 00:40:00             12.05\n",
      "2014-09-03 00:42:00             12.05\n",
      "2014-09-03 00:44:00             12.00\n",
      "2014-09-03 00:46:00             11.95\n",
      "2014-09-03 00:48:00             11.90\n",
      "2014-09-03 00:50:00             11.90\n",
      "2014-09-03 00:52:00             11.90\n",
      "2014-09-03 00:54:00             11.90\n",
      "2014-09-03 00:56:00             11.85\n",
      "2014-09-03 00:58:00             11.85\n",
      "2014-09-03 01:00:00             11.81\n",
      "2014-09-03 01:02:00             11.76\n",
      "2014-09-03 01:04:00             11.71\n",
      "2014-09-03 01:06:00             11.66\n",
      "2014-09-03 01:08:00             11.61\n",
      "2014-09-03 01:10:00             11.57\n",
      "2014-09-03 01:12:00             11.58\n",
      "2014-09-03 01:14:00             11.58\n",
      "2014-09-03 01:16:00             11.47\n",
      "2014-09-03 01:18:00             11.54\n",
      "2014-09-03 01:20:00             11.49\n",
      "2014-09-03 01:22:00             11.42\n",
      "2014-09-03 01:24:00             11.37\n",
      "2014-09-03 01:26:00             11.37\n",
      "2014-09-03 01:28:00             11.42\n",
      "2014-09-03 01:30:00             11.49\n",
      "2014-09-03 01:32:00             11.44\n",
      "...                               ...\n",
      "2015-08-07 15:42:00             25.90\n",
      "2015-08-07 15:44:00             26.00\n",
      "2015-08-07 15:46:00             26.00\n",
      "2015-08-07 15:48:00             26.10\n",
      "2015-08-07 15:50:00             26.10\n",
      "2015-08-07 15:52:00             26.10\n",
      "2015-08-07 15:54:00             26.00\n",
      "2015-08-07 15:56:00             25.90\n",
      "2015-08-07 15:58:00             25.70\n",
      "2015-08-07 16:00:00             25.70\n",
      "2015-08-07 16:02:00             25.90\n",
      "2015-08-07 16:04:00             25.90\n",
      "2015-08-07 16:06:00             25.80\n",
      "2015-08-07 16:08:00             25.60\n",
      "2015-08-07 16:10:00             25.60\n",
      "2015-08-07 16:12:00             25.40\n",
      "2015-08-07 16:14:00             25.20\n",
      "2015-08-07 16:16:00             25.10\n",
      "2015-08-07 16:18:00             25.00\n",
      "2015-08-07 16:20:00             25.00\n",
      "2015-08-07 16:22:00             24.90\n",
      "2015-08-07 16:24:00             24.90\n",
      "2015-08-07 16:26:00             25.00\n",
      "2015-08-07 16:28:00             25.00\n",
      "2015-08-07 16:30:00             24.90\n",
      "2015-08-07 16:32:00             24.50\n",
      "2015-08-07 16:34:00             24.20\n",
      "2015-08-07 16:36:00             23.80\n",
      "2015-08-07 16:38:00             23.50\n",
      "2015-08-07 16:40:00             23.30\n",
      "\n",
      "[243844 rows x 1 columns]\n"
     ]
    }
   ],
   "source": [
    "Path = \"./data/\"\n",
    "filename = \"temperature.txt\"\n",
    "\n",
    "df_temp = pd.read_csv(Path+filename, index_col =0, parse_dates=True)\n",
    "print df_temp"
   ]
  },
  {
   "cell_type": "markdown",
   "metadata": {
    "deletable": true,
    "editable": true
   },
   "source": [
    "### Resample"
   ]
  },
  {
   "cell_type": "markdown",
   "metadata": {
    "deletable": true,
    "editable": true
   },
   "source": [
    "df temp does not have the same time frequency. Therfore, It is necessary to resample this dataframe by day prior to merge."
   ]
  },
  {
   "cell_type": "code",
   "execution_count": 28,
   "metadata": {
    "collapsed": true,
    "deletable": true,
    "editable": true
   },
   "outputs": [
    {
     "name": "stdout",
     "output_type": "stream",
     "text": [
      "             temperature (C)\n",
      "dates                       \n",
      "2014-09-03         16.311963\n",
      "2014-09-04         15.392722\n",
      "2014-09-05         15.154472\n",
      "2014-09-06         14.241111\n",
      "2014-09-07         18.746944\n",
      "2014-09-08         18.082222\n",
      "2014-09-09         16.720417\n",
      "2014-09-10         19.793889\n",
      "2014-09-11         19.885694\n",
      "2014-09-12         18.463056\n",
      "2014-09-13         16.820972\n",
      "2014-09-14         17.061944\n",
      "2014-09-15         20.344444\n",
      "2014-09-16         18.614861\n",
      "2014-09-17         18.448542\n",
      "2014-09-18         19.118472\n",
      "2014-09-19         20.192778\n",
      "2014-09-20         16.926861\n",
      "2014-09-21         15.976819\n",
      "2014-09-22         14.635500\n",
      "2014-09-23         16.686528\n",
      "2014-09-24         19.341944\n",
      "2014-09-25         19.142222\n",
      "2014-09-26         18.091319\n",
      "2014-09-27         18.582514\n",
      "2014-09-28         20.194736\n",
      "2014-09-29         21.774167\n",
      "2014-09-30         22.004583\n",
      "2014-10-01         20.611417\n",
      "2014-10-02         16.429278\n",
      "...                      ...\n",
      "2015-07-09         15.187361\n",
      "2015-07-10         14.469125\n",
      "2015-07-11         14.681944\n",
      "2015-07-12         16.293889\n",
      "2015-07-13         16.739167\n",
      "2015-07-14         18.276667\n",
      "2015-07-15         16.145278\n",
      "2015-07-16         16.282861\n",
      "2015-07-17         15.115556\n",
      "2015-07-18         14.125944\n",
      "2015-07-19         14.352125\n",
      "2015-07-20         14.820097\n",
      "2015-07-21         16.293694\n",
      "2015-07-22         14.214264\n",
      "2015-07-23         15.444125\n",
      "2015-07-24         16.343958\n",
      "2015-07-25         14.790889\n",
      "2015-07-26         15.567667\n",
      "2015-07-27         12.984014\n",
      "2015-07-28         12.297194\n",
      "2015-07-29         13.241361\n",
      "2015-07-30         13.913014\n",
      "2015-07-31         14.354861\n",
      "2015-08-01         14.397194\n",
      "2015-08-02         14.002972\n",
      "2015-08-03         14.749417\n",
      "2015-08-04         15.073653\n",
      "2015-08-05         14.243431\n",
      "2015-08-06         14.959389\n",
      "2015-08-07         16.004291\n",
      "\n",
      "[339 rows x 1 columns]\n"
     ]
    }
   ],
   "source": [
    "df_temp_day = df_temp.resample('D', how='mean')\n",
    "print df_temp_day"
   ]
  },
  {
   "cell_type": "markdown",
   "metadata": {
    "deletable": true,
    "editable": true
   },
   "source": [
    "### Merge"
   ]
  },
  {
   "cell_type": "markdown",
   "metadata": {
    "deletable": true,
    "editable": true
   },
   "source": [
    "We use the argument join='inner' to keep only the index labels that are present in both dataframe. But we could have use join='outer' to keep all the labeles of each dataframes"
   ]
  },
  {
   "cell_type": "code",
   "execution_count": 30,
   "metadata": {
    "collapsed": true,
    "deletable": true,
    "editable": true
   },
   "outputs": [
    {
     "name": "stdout",
     "output_type": "stream",
     "text": [
      "             reservoir  volume (%)  rain (mm/dia)   temperature (C)\n",
      "dates                                                              \n",
      "2014-09-03  Cantareira        10.7           22.2         16.311963\n",
      "2014-09-04  Cantareira        10.6            0.2         15.392722\n",
      "2014-09-05  Cantareira        10.5            0.0         15.154472\n",
      "2014-09-06  Cantareira        10.4            0.0         14.241111\n",
      "2014-09-07  Cantareira        10.2            0.0         18.746944\n",
      "2014-09-08  Cantareira        10.1            0.0         18.082222\n",
      "2014-09-09  Cantareira        10.0            0.0         16.720417\n",
      "2014-09-10  Cantareira         9.8            0.0         19.793889\n",
      "2014-09-11  Cantareira         9.7            0.0         19.885694\n",
      "2014-09-12  Cantareira         9.5            0.0         18.463056\n",
      "2014-09-13  Cantareira         9.4            0.0         16.820972\n",
      "2014-09-14  Cantareira         9.2            0.0         17.061944\n",
      "2014-09-15  Cantareira         9.1            0.0         20.344444\n",
      "2014-09-16  Cantareira         8.9            0.0         18.614861\n",
      "2014-09-17  Cantareira         8.9            0.0         18.448542\n",
      "2014-09-18  Cantareira         8.6            0.0         19.118472\n",
      "2014-09-19  Cantareira         8.4            0.0         20.192778\n",
      "2014-09-20  Cantareira         8.2            2.2         16.926861\n",
      "2014-09-21  Cantareira         8.1            6.8         15.976819\n",
      "2014-09-22  Cantareira         8.0            0.9         14.635500\n",
      "2014-09-23  Cantareira         7.8            0.0         16.686528\n",
      "2014-09-24  Cantareira         7.6            0.0         19.341944\n",
      "2014-09-25  Cantareira         7.4            0.0         19.142222\n",
      "2014-09-26  Cantareira         7.2            0.2         18.091319\n",
      "2014-09-27  Cantareira         7.2           22.7         18.582514\n",
      "2014-09-28  Cantareira         7.1            0.1         20.194736\n",
      "2014-09-29  Cantareira         7.0            0.0         21.774167\n",
      "2014-09-30  Cantareira         6.9            3.1         22.004583\n",
      "2014-10-01  Cantareira         6.7            0.0         20.611417\n",
      "2014-10-02  Cantareira         6.6            0.3         16.429278\n",
      "...                ...         ...            ...               ...\n",
      "2015-07-09  Cantareira        19.6            1.6         15.187361\n",
      "2015-07-10  Cantareira        19.6            0.1         14.469125\n",
      "2015-07-11  Cantareira        19.6            0.1         14.681944\n",
      "2015-07-12  Cantareira        19.5            1.7         16.293889\n",
      "2015-07-13  Cantareira        19.5            0.1         16.739167\n",
      "2015-07-14  Cantareira        19.4            0.0         18.276667\n",
      "2015-07-15  Cantareira        19.4            0.0         16.145278\n",
      "2015-07-16  Cantareira        19.3            0.0         16.282861\n",
      "2015-07-17  Cantareira        19.3            0.0         15.115556\n",
      "2015-07-18  Cantareira        19.2            0.0         14.125944\n",
      "2015-07-19  Cantareira        19.2            0.1         14.352125\n",
      "2015-07-20  Cantareira        19.1            0.0         14.820097\n",
      "2015-07-21  Cantareira        19.0            0.0         16.293694\n",
      "2015-07-22  Cantareira        19.0            0.0         14.214264\n",
      "2015-07-23  Cantareira        18.9            0.0         15.444125\n",
      "2015-07-24  Cantareira        18.9            1.0         16.343958\n",
      "2015-07-25  Cantareira        18.8           15.1         14.790889\n",
      "2015-07-26  Cantareira        18.8            5.1         15.567667\n",
      "2015-07-27  Cantareira        18.9            0.3         12.984014\n",
      "2015-07-28  Cantareira        18.8            0.0         12.297194\n",
      "2015-07-29  Cantareira        18.8            0.2         13.241361\n",
      "2015-07-30  Cantareira        18.8            0.2         13.913014\n",
      "2015-07-31  Cantareira        18.7            0.0         14.354861\n",
      "2015-08-01  Cantareira        18.7            0.2         14.397194\n",
      "2015-08-02  Cantareira        18.6            0.1         14.002972\n",
      "2015-08-03  Cantareira        18.5            0.1         14.749417\n",
      "2015-08-04  Cantareira        18.4            0.1         15.073653\n",
      "2015-08-05  Cantareira        18.3            0.2         14.243431\n",
      "2015-08-06  Cantareira        18.2            0.0         14.959389\n",
      "2015-08-07  Cantareira        18.1            0.0         16.004291\n",
      "\n",
      "[339 rows x 4 columns]\n"
     ]
    }
   ],
   "source": [
    "df_merged = pd.concat([df, df_temp_day], axis=1, join='inner')\n",
    "print df_merged"
   ]
  },
  {
   "cell_type": "markdown",
   "metadata": {
    "deletable": true,
    "editable": true
   },
   "source": [
    "## Avanced manipulation\n",
    "From this stage the true power of Pandas is unleashed."
   ]
  },
  {
   "cell_type": "markdown",
   "metadata": {
    "deletable": true,
    "editable": true
   },
   "source": [
    "### Grouping : split-apply-combine"
   ]
  },
  {
   "cell_type": "markdown",
   "metadata": {
    "collapsed": false,
    "deletable": true,
    "editable": true
   },
   "source": [
    "\n",
    "\n",
    "Grouping with the method group-by consist of a 3 step process:\n",
    "\n",
    "* Spliting the data with some criteria\n",
    "* Applying a function to each group.\n",
    "* Combining the results in a data structure\n",
    "\n",
    "In the following example, we want to perform the period average by months.\n",
    "\n",
    "1. Create a new column with the month number\n",
    "2. Pass the column month as a criteria\n",
    "3. Apply the function mean() on each group\n",
    "\n",
    "For more information please see the documentation http://pandas.pydata.org/pandas-docs/stable/groupby.html"
   ]
  },
  {
   "cell_type": "code",
   "execution_count": 66,
   "metadata": {
    "collapsed": true,
    "deletable": true,
    "editable": true
   },
   "outputs": [
    {
     "name": "stdout",
     "output_type": "stream",
     "text": [
      "         vol (%)  rain (mm/dia)\n",
      "month                          \n",
      "1      47.567332       8.996030\n",
      "2      52.826975       6.413079\n",
      "3      56.900993       5.256328\n",
      "4      59.690513       2.775128\n",
      "5      59.976675       1.907444\n",
      "6      59.488462       1.894872\n",
      "7      57.018362       2.052109\n",
      "8      53.547891       0.665261\n",
      "9      48.410769       2.272564\n",
      "10     45.833156       4.024403\n",
      "11     43.670278       5.612778\n",
      "12     43.477957       6.574462\n"
     ]
    }
   ],
   "source": [
    "df['month'] = df.index.month\n",
    "grouped = df.groupby('month').mean()\n",
    "print grouped\n"
   ]
  },
  {
   "cell_type": "markdown",
   "metadata": {
    "deletable": true,
    "editable": true
   },
   "source": [
    "### Pivot Table"
   ]
  },
  {
   "cell_type": "markdown",
   "metadata": {
    "deletable": true,
    "editable": true
   },
   "source": [
    "Create pivot table spread-sheet like with multi-index.\n",
    "\n",
    "* data: A DataFrame object\n",
    "* values: a column or a list of columns to aggregate\n",
    "* index: a column, Grouper, array which has the same length as data, or list of them. Keys to group by on the pivot table index. If an array is passed, it is being used as the same manner as column values.\n",
    "* columns: a column, Grouper, array which has the same length as data, or list of them. Keys to group by on the pivot table column. If an array is passed, it is being used as the same manner as column values.\n",
    "* aggfunc: function to use for aggregation, defaulting to numpy.mean\n",
    "\n"
   ]
  },
  {
   "cell_type": "markdown",
   "metadata": {
    "deletable": true,
    "editable": true
   },
   "source": [
    "In the following example we want to restructure the dataframe to see the average volume and precipitation by month and year. "
   ]
  },
  {
   "cell_type": "code",
   "execution_count": 72,
   "metadata": {
    "collapsed": false,
    "deletable": true,
    "editable": true
   },
   "outputs": [],
   "source": [
    "df['month'] = df.index.month\n",
    "df['year']= df.index.year"
   ]
  },
  {
   "cell_type": "code",
   "execution_count": 76,
   "metadata": {
    "collapsed": true,
    "deletable": true,
    "editable": true
   },
   "outputs": [
    {
     "name": "stdout",
     "output_type": "stream",
     "text": [
      "            rain (mm/dia)\n",
      "month year               \n",
      "1     2003      13.241935\n",
      "      2004       5.080645\n",
      "      2005       9.122581\n",
      "      2006       6.780645\n",
      "      2007      10.806452\n",
      "      2008       7.829032\n",
      "      2009       9.503226\n",
      "      2010      15.667742\n",
      "      2011      15.693548\n",
      "      2012      10.861290\n",
      "      2013       4.735484\n",
      "      2014       2.845161\n",
      "      2015       4.780645\n",
      "2     2003       3.607143\n",
      "      2004       8.813793\n",
      "      2005       4.875000\n",
      "      2006      10.117857\n",
      "      2007       3.825000\n",
      "      2008       5.817241\n",
      "      2009       8.328571\n",
      "      2010       5.850000\n",
      "      2011       5.853571\n",
      "      2012       3.293103\n",
      "      2013       8.900000\n",
      "      2014       2.617857\n",
      "      2015      11.517857\n",
      "3     2003       3.335484\n",
      "      2004       3.400000\n",
      "      2005       8.074194\n",
      "      2006       8.606452\n",
      "...                   ...\n",
      "10    2010       2.958065\n",
      "      2011       3.993548\n",
      "      2012       3.512903\n",
      "      2013       3.990323\n",
      "      2014       1.367742\n",
      "      2015       8.320000\n",
      "11    2003       4.956667\n",
      "      2004       6.800000\n",
      "      2005       5.030000\n",
      "      2006       6.146667\n",
      "      2007       8.453333\n",
      "      2008       5.070000\n",
      "      2009       7.916667\n",
      "      2010       5.193333\n",
      "      2011       5.913333\n",
      "      2012       4.136667\n",
      "      2013       3.236667\n",
      "      2014       4.500000\n",
      "12    2003       6.380645\n",
      "      2004       5.019355\n",
      "      2005       6.522581\n",
      "      2006       9.161290\n",
      "      2007       5.341935\n",
      "      2008       5.535484\n",
      "      2009      13.506452\n",
      "      2010       7.958065\n",
      "      2011       3.806452\n",
      "      2012       8.283871\n",
      "      2013       2.038710\n",
      "      2014       5.338710\n",
      "\n",
      "[154 rows x 1 columns]\n"
     ]
    }
   ],
   "source": [
    "pt = pd.pivot_table(df, values=['volume (%)', \"rain (mm/dia)\"], index=['month','year'])\n",
    "print pt"
   ]
  },
  {
   "cell_type": "markdown",
   "metadata": {
    "deletable": true,
    "editable": true
   },
   "source": [
    "The new datastructure has a multi-index along the axis 0. Pandas object can handle multiple index on multiple axis."
   ]
  },
  {
   "cell_type": "code",
   "execution_count": 77,
   "metadata": {
    "collapsed": true,
    "deletable": true,
    "editable": true
   },
   "outputs": [
    {
     "data": {
      "text/plain": [
       "MultiIndex(levels=[[1, 2, 3, 4, 5, 6, 7, 8, 9, 10, 11, 12], [2003, 2004, 2005, 2006, 2007, 2008, 2009, 2010, 2011, 2012, 2013, 2014, 2015]],\n",
       "           labels=[[0, 0, 0, 0, 0, 0, 0, 0, 0, 0, 0, 0, 0, 1, 1, 1, 1, 1, 1, 1, 1, 1, 1, 1, 1, 1, 2, 2, 2, 2, 2, 2, 2, 2, 2, 2, 2, 2, 2, 3, 3, 3, 3, 3, 3, 3, 3, 3, 3, 3, 3, 3, 4, 4, 4, 4, 4, 4, 4, 4, 4, 4, 4, 4, 4, 5, 5, 5, 5, 5, 5, 5, 5, 5, 5, 5, 5, 5, 6, 6, 6, 6, 6, 6, 6, 6, 6, 6, 6, 6, 6, 7, 7, 7, 7, 7, 7, 7, 7, 7, 7, 7, 7, 7, 8, 8, 8, 8, 8, 8, 8, 8, 8, 8, 8, 8, 8, 9, 9, 9, 9, 9, 9, 9, 9, 9, 9, 9, 9, 9, 10, 10, 10, 10, 10, 10, 10, 10, 10, 10, 10, 10, 11, 11, 11, 11, 11, 11, 11, 11, 11, 11, 11, 11], [0, 1, 2, 3, 4, 5, 6, 7, 8, 9, 10, 11, 12, 0, 1, 2, 3, 4, 5, 6, 7, 8, 9, 10, 11, 12, 0, 1, 2, 3, 4, 5, 6, 7, 8, 9, 10, 11, 12, 0, 1, 2, 3, 4, 5, 6, 7, 8, 9, 10, 11, 12, 0, 1, 2, 3, 4, 5, 6, 7, 8, 9, 10, 11, 12, 0, 1, 2, 3, 4, 5, 6, 7, 8, 9, 10, 11, 12, 0, 1, 2, 3, 4, 5, 6, 7, 8, 9, 10, 11, 12, 0, 1, 2, 3, 4, 5, 6, 7, 8, 9, 10, 11, 12, 0, 1, 2, 3, 4, 5, 6, 7, 8, 9, 10, 11, 12, 0, 1, 2, 3, 4, 5, 6, 7, 8, 9, 10, 11, 12, 0, 1, 2, 3, 4, 5, 6, 7, 8, 9, 10, 11, 0, 1, 2, 3, 4, 5, 6, 7, 8, 9, 10, 11]],\n",
       "           names=[u'month', u'year'])"
      ]
     },
     "execution_count": 77,
     "metadata": {},
     "output_type": "execute_result"
    }
   ],
   "source": [
    "pt.index"
   ]
  },
  {
   "cell_type": "markdown",
   "metadata": {
    "deletable": true,
    "editable": true
   },
   "source": [
    "## Writing data structure to file\n",
    "\n"
   ]
  },
  {
   "cell_type": "code",
   "execution_count": 32,
   "metadata": {
    "collapsed": false,
    "deletable": true,
    "editable": true
   },
   "outputs": [],
   "source": [
    "df.to_csv('./my_results.csv')"
   ]
  },
  {
   "cell_type": "markdown",
   "metadata": {
    "deletable": true,
    "editable": true
   },
   "source": [
    "# Plots"
   ]
  },
  {
   "cell_type": "markdown",
   "metadata": {
    "deletable": true,
    "editable": true
   },
   "source": [
    "Pandas module has some basic plot functionality built on top of matplotlib"
   ]
  },
  {
   "cell_type": "code",
   "execution_count": 39,
   "metadata": {
    "collapsed": false,
    "deletable": true,
    "editable": true,
    "scrolled": true
   },
   "outputs": [],
   "source": [
    "df.loc[:,\"volume (%)\"].resample('A', how='mean').plot(kind=\"bar\")\n",
    "plt.show()"
   ]
  },
  {
   "cell_type": "code",
   "execution_count": 40,
   "metadata": {
    "collapsed": true
   },
   "outputs": [],
   "source": [
    "df.loc[:,\"volume (%)\"].resample('A', how='mean').plot.area(stacked=False)\n",
    "plt.show()"
   ]
  }
 ],
 "metadata": {
  "kernelspec": {
   "display_name": "Python 2",
   "language": "python",
   "name": "python2"
  },
  "language_info": {
   "codemirror_mode": {
    "name": "ipython",
    "version": 2
   },
   "file_extension": ".py",
   "mimetype": "text/x-python",
   "name": "python",
   "nbconvert_exporter": "python",
   "pygments_lexer": "ipython2",
   "version": "2.7.9"
  }
 },
 "nbformat": 4,
 "nbformat_minor": 0
}
